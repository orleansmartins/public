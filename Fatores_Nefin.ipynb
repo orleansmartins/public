{
  "nbformat": 4,
  "nbformat_minor": 0,
  "metadata": {
    "colab": {
      "provenance": [],
      "toc_visible": true,
      "include_colab_link": true
    },
    "kernelspec": {
      "name": "python3",
      "display_name": "Python 3"
    },
    "language_info": {
      "name": "python"
    }
  },
  "cells": [
    {
      "cell_type": "markdown",
      "metadata": {
        "id": "view-in-github",
        "colab_type": "text"
      },
      "source": [
        "<a href=\"https://colab.research.google.com/github/orleansmartins/public/blob/main/Fatores_Nefin.ipynb\" target=\"_parent\"><img src=\"https://colab.research.google.com/assets/colab-badge.svg\" alt=\"Open In Colab\"/></a>"
      ]
    },
    {
      "cell_type": "markdown",
      "source": [
        "#Instalação de Pacotes"
      ],
      "metadata": {
        "id": "y8uNcePVVBs-"
      }
    },
    {
      "cell_type": "code",
      "source": [
        "!pip install --upgrade xlrd\n",
        "!pip install investpy"
      ],
      "metadata": {
        "id": "Z8O-MaTCS3yW"
      },
      "execution_count": null,
      "outputs": []
    },
    {
      "cell_type": "code",
      "source": [
        "!pip install quandl"
      ],
      "metadata": {
        "id": "acmGGlucQ_KU",
        "colab": {
          "base_uri": "https://localhost:8080/"
        },
        "outputId": "c3064b79-b982-48a3-806a-2201b4f8da91"
      },
      "execution_count": null,
      "outputs": [
        {
          "output_type": "stream",
          "name": "stdout",
          "text": [
            "Looking in indexes: https://pypi.org/simple, https://us-python.pkg.dev/colab-wheels/public/simple/\n",
            "Collecting quandl\n",
            "  Downloading Quandl-3.7.0-py2.py3-none-any.whl (26 kB)\n",
            "Requirement already satisfied: pandas>=0.14 in /usr/local/lib/python3.8/dist-packages (from quandl) (1.3.5)\n",
            "Requirement already satisfied: more-itertools in /usr/local/lib/python3.8/dist-packages (from quandl) (9.0.0)\n",
            "Requirement already satisfied: python-dateutil in /usr/local/lib/python3.8/dist-packages (from quandl) (2.8.2)\n",
            "Collecting inflection>=0.3.1\n",
            "  Downloading inflection-0.5.1-py2.py3-none-any.whl (9.5 kB)\n",
            "Requirement already satisfied: requests>=2.7.0 in /usr/local/lib/python3.8/dist-packages (from quandl) (2.25.1)\n",
            "Requirement already satisfied: numpy>=1.8 in /usr/local/lib/python3.8/dist-packages (from quandl) (1.21.6)\n",
            "Requirement already satisfied: six in /usr/local/lib/python3.8/dist-packages (from quandl) (1.15.0)\n",
            "Requirement already satisfied: pytz>=2017.3 in /usr/local/lib/python3.8/dist-packages (from pandas>=0.14->quandl) (2022.7)\n",
            "Requirement already satisfied: urllib3<1.27,>=1.21.1 in /usr/local/lib/python3.8/dist-packages (from requests>=2.7.0->quandl) (1.24.3)\n",
            "Requirement already satisfied: idna<3,>=2.5 in /usr/local/lib/python3.8/dist-packages (from requests>=2.7.0->quandl) (2.10)\n",
            "Requirement already satisfied: chardet<5,>=3.0.2 in /usr/local/lib/python3.8/dist-packages (from requests>=2.7.0->quandl) (4.0.0)\n",
            "Requirement already satisfied: certifi>=2017.4.17 in /usr/local/lib/python3.8/dist-packages (from requests>=2.7.0->quandl) (2022.12.7)\n",
            "Installing collected packages: inflection, quandl\n",
            "Successfully installed inflection-0.5.1 quandl-3.7.0\n"
          ]
        }
      ]
    },
    {
      "cell_type": "code",
      "source": [
        "! pip install pycryptodome pycryptodomex\n",
        "! pip uninstall --yes pandas-datareader\n",
        "! pip install git+https://github.com/raphi6/pandas-datareader.git@ea66d6b981554f9d0262038aef2106dda7138316"
      ],
      "metadata": {
        "id": "ZusQsEFcSPPg",
        "colab": {
          "base_uri": "https://localhost:8080/"
        },
        "outputId": "322dc001-f6c6-4adb-83fc-618cc890165b"
      },
      "execution_count": null,
      "outputs": [
        {
          "output_type": "stream",
          "name": "stdout",
          "text": [
            "Looking in indexes: https://pypi.org/simple, https://us-python.pkg.dev/colab-wheels/public/simple/\n",
            "Collecting pycryptodome\n",
            "  Downloading pycryptodome-3.16.0-cp35-abi3-manylinux_2_5_x86_64.manylinux1_x86_64.manylinux_2_12_x86_64.manylinux2010_x86_64.whl (2.3 MB)\n",
            "\u001b[2K     \u001b[90m━━━━━━━━━━━━━━━━━━━━━━━━━━━━━━━━━━━━━━━━\u001b[0m \u001b[32m2.3/2.3 MB\u001b[0m \u001b[31m30.5 MB/s\u001b[0m eta \u001b[36m0:00:00\u001b[0m\n",
            "\u001b[?25hCollecting pycryptodomex\n",
            "  Downloading pycryptodomex-3.16.0-cp35-abi3-manylinux_2_5_x86_64.manylinux1_x86_64.manylinux_2_12_x86_64.manylinux2010_x86_64.whl (2.3 MB)\n",
            "\u001b[2K     \u001b[90m━━━━━━━━━━━━━━━━━━━━━━━━━━━━━━━━━━━━━━━━\u001b[0m \u001b[32m2.3/2.3 MB\u001b[0m \u001b[31m42.3 MB/s\u001b[0m eta \u001b[36m0:00:00\u001b[0m\n",
            "\u001b[?25hInstalling collected packages: pycryptodomex, pycryptodome\n",
            "Successfully installed pycryptodome-3.16.0 pycryptodomex-3.16.0\n",
            "Found existing installation: pandas-datareader 0.9.0\n",
            "Uninstalling pandas-datareader-0.9.0:\n",
            "  Successfully uninstalled pandas-datareader-0.9.0\n",
            "Looking in indexes: https://pypi.org/simple, https://us-python.pkg.dev/colab-wheels/public/simple/\n",
            "Collecting git+https://github.com/raphi6/pandas-datareader.git@ea66d6b981554f9d0262038aef2106dda7138316\n",
            "  Cloning https://github.com/raphi6/pandas-datareader.git (to revision ea66d6b981554f9d0262038aef2106dda7138316) to /tmp/pip-req-build-dkd4b4i3\n",
            "  Running command git clone --filter=blob:none --quiet https://github.com/raphi6/pandas-datareader.git /tmp/pip-req-build-dkd4b4i3\n",
            "  Running command git rev-parse -q --verify 'sha^ea66d6b981554f9d0262038aef2106dda7138316'\n",
            "  Running command git fetch -q https://github.com/raphi6/pandas-datareader.git ea66d6b981554f9d0262038aef2106dda7138316\n",
            "  Running command git checkout -q ea66d6b981554f9d0262038aef2106dda7138316\n",
            "  Resolved https://github.com/raphi6/pandas-datareader.git to commit ea66d6b981554f9d0262038aef2106dda7138316\n",
            "  Preparing metadata (setup.py) ... \u001b[?25l\u001b[?25hdone\n",
            "Requirement already satisfied: lxml in /usr/local/lib/python3.8/dist-packages (from pandas-datareader==0+untagged.811.gea66d6b) (4.9.2)\n",
            "Requirement already satisfied: pandas>=0.23 in /usr/local/lib/python3.8/dist-packages (from pandas-datareader==0+untagged.811.gea66d6b) (1.3.5)\n",
            "Requirement already satisfied: requests>=2.19.0 in /usr/local/lib/python3.8/dist-packages (from pandas-datareader==0+untagged.811.gea66d6b) (2.25.1)\n",
            "Requirement already satisfied: python-dateutil>=2.7.3 in /usr/local/lib/python3.8/dist-packages (from pandas>=0.23->pandas-datareader==0+untagged.811.gea66d6b) (2.8.2)\n",
            "Requirement already satisfied: numpy>=1.17.3 in /usr/local/lib/python3.8/dist-packages (from pandas>=0.23->pandas-datareader==0+untagged.811.gea66d6b) (1.21.6)\n",
            "Requirement already satisfied: pytz>=2017.3 in /usr/local/lib/python3.8/dist-packages (from pandas>=0.23->pandas-datareader==0+untagged.811.gea66d6b) (2022.7)\n",
            "Requirement already satisfied: idna<3,>=2.5 in /usr/local/lib/python3.8/dist-packages (from requests>=2.19.0->pandas-datareader==0+untagged.811.gea66d6b) (2.10)\n",
            "Requirement already satisfied: certifi>=2017.4.17 in /usr/local/lib/python3.8/dist-packages (from requests>=2.19.0->pandas-datareader==0+untagged.811.gea66d6b) (2022.12.7)\n",
            "Requirement already satisfied: urllib3<1.27,>=1.21.1 in /usr/local/lib/python3.8/dist-packages (from requests>=2.19.0->pandas-datareader==0+untagged.811.gea66d6b) (1.24.3)\n",
            "Requirement already satisfied: chardet<5,>=3.0.2 in /usr/local/lib/python3.8/dist-packages (from requests>=2.19.0->pandas-datareader==0+untagged.811.gea66d6b) (4.0.0)\n",
            "Requirement already satisfied: six>=1.5 in /usr/local/lib/python3.8/dist-packages (from python-dateutil>=2.7.3->pandas>=0.23->pandas-datareader==0+untagged.811.gea66d6b) (1.15.0)\n",
            "Building wheels for collected packages: pandas-datareader\n",
            "  Building wheel for pandas-datareader (setup.py) ... \u001b[?25l\u001b[?25hdone\n",
            "  Created wheel for pandas-datareader: filename=pandas_datareader-0+untagged.811.gea66d6b-py3-none-any.whl size=110763 sha256=fc97dbe01920f475eb9b602e391242827ed697850dab20387d81a556bc427072\n",
            "  Stored in directory: /root/.cache/pip/wheels/24/b2/87/2c66651436c14de4e053ceb5b48684d11d8b79040bf6bcd790\n",
            "Successfully built pandas-datareader\n",
            "Installing collected packages: pandas-datareader\n",
            "Successfully installed pandas-datareader-0+untagged.811.gea66d6b\n"
          ]
        }
      ]
    },
    {
      "cell_type": "markdown",
      "source": [
        "#Imports de bibliotecas"
      ],
      "metadata": {
        "id": "RGZ3XKyKWTU5"
      }
    },
    {
      "cell_type": "code",
      "execution_count": null,
      "metadata": {
        "id": "14o9I7ZgScyr"
      },
      "outputs": [],
      "source": [
        "import requests as req\n",
        "\n",
        "import datetime as dt\n",
        "import pandas as pd\n",
        "import numpy as np\n",
        "\n",
        "import statsmodels.api as sm"
      ]
    },
    {
      "cell_type": "code",
      "source": [
        "import pandas_datareader as pdr\n",
        "import investpy\n",
        "\n",
        "import quandl\n",
        "quandl.ApiConfig.api_key = \"RMn6QX96UxspKjLtzpPF\""
      ],
      "metadata": {
        "id": "kiwRshWiSvW2"
      },
      "execution_count": null,
      "outputs": []
    },
    {
      "cell_type": "code",
      "source": [
        "from plotly import graph_objects as go\n",
        "from plotly.tools import make_subplots"
      ],
      "metadata": {
        "id": "g0U9cfqmZJ5o"
      },
      "execution_count": null,
      "outputs": []
    },
    {
      "cell_type": "markdown",
      "source": [
        "#Classes para busca de fatores do NEFIN"
      ],
      "metadata": {
        "id": "OcwlOk3YWXin"
      }
    },
    {
      "cell_type": "code",
      "source": [
        "class Portfolios():\n",
        "\n",
        "    def __init__(self, *, verbose=False):\n",
        "        self.size = self.set_portfolio('size', verbose=verbose)\n",
        "        self.book_to_market = self.set_portfolio('book-to-market', verbose=verbose)\n",
        "        self.momentum = self.set_portfolio('momentum', verbose=verbose)\n",
        "        self.illiquidity = self.set_portfolio('illiquidity', verbose=verbose)\n",
        "\n",
        "\n",
        "    def set_portfolio(self, name, portfolio_number=3, *, verbose=False):\n",
        "        if verbose:\n",
        "            print(f'Fetching {name} portfolios', end=' ---- ')\n",
        "        url = f'https://nefin.com.br/data/Portfolios/{portfolio_number}_portfolios_sorted_by_{name}.xls'\n",
        "        if verbose:\n",
        "            print('OK')\n",
        "        portfolio = pd.read_excel(url)\n",
        "        portfolio.index = self._reformat_dates(portfolio)\n",
        "        portfolio.drop(columns=['year', 'month', 'day'], inplace=True)\n",
        "        portfolio.name = name\n",
        "        return portfolio\n",
        "\n",
        "\n",
        "    def _reformat_dates(self, portfolio):\n",
        "        new_dates = [\n",
        "        dt.date(portfolio['year'].iloc[i], portfolio['month'].iloc[i], portfolio['day'].iloc[i]) \n",
        "            for i in range(portfolio.shape[0])\n",
        "        ]\n",
        "        return new_dates\n",
        "\n",
        "    def to_dict(self):\n",
        "        return {\n",
        "            'size': self.size,\n",
        "            'book-to-market': self.book_to_market,\n",
        "            'momentum': self.momentum,\n",
        "            'illiquidity': self.illiquidity,\n",
        "        }\n",
        "\n",
        "    def get_portfolio_names(self):\n",
        "        return list( self.to_dict().keys() )\n",
        "    "
      ],
      "metadata": {
        "id": "mlG0NeoRSeyI"
      },
      "execution_count": null,
      "outputs": []
    },
    {
      "cell_type": "code",
      "source": [
        "class Factors():\n",
        "    def __init__(self, start=dt.date.today()-dt.timedelta(days=365*5), end=dt.date.today(), *, benchmark=None, auto_init=True, verbose=False):\n",
        "        self.start = start\n",
        "        self.end = end\n",
        "        if auto_init:\n",
        "            self.portfolios = Portfolios(verbose=verbose)\n",
        "            self.MKT = self.set_market_factor(benchmark=benchmark, verbose=verbose)\n",
        "            self.SMB = self.set_factor(self.portfolios.size, long_portfolio_column=0, short_portfolio_column=2, verbose=verbose)\n",
        "            self.HML = self.set_factor(self.portfolios.book_to_market, long_portfolio_column=2, short_portfolio_column=0, verbose=verbose)\n",
        "            self.WML = self.set_factor(self.portfolios.momentum, long_portfolio_column=2, short_portfolio_column=0, verbose=verbose)\n",
        "            self.IML = self.set_factor(self.portfolios.illiquidity, long_portfolio_column=2, short_portfolio_column=0, verbose=verbose)\n",
        "\n",
        "\n",
        "    def set_factor(self, portfolio, long_portfolio_column, short_portfolio_column, *, verbose=False):\n",
        "        if verbose:\n",
        "            print(f'Calculating {portfolio.name} factor', end=' ---- ')\n",
        "        long_portfolio_name = portfolio.columns[long_portfolio_column]\n",
        "        short_portfolio_name = portfolio.columns[short_portfolio_column]\n",
        "        factor = portfolio[long_portfolio_name] - portfolio[short_portfolio_name]\n",
        "        factor.name = portfolio.name\n",
        "        if verbose:\n",
        "            print('OK')\n",
        "\n",
        "        return factor \n",
        "\n",
        "    def set_market_factor(self, start=None, end=None, *, benchmark=None, verbose=False):\n",
        "        if start is None:\n",
        "            start = self.start\n",
        "        if end is None:\n",
        "            end = self.end\n",
        "        str_start = start.strftime('%d/%m/%Y')\n",
        "        str_end = end.strftime('%d/%m/%Y')\n",
        "\n",
        "        if verbose:\n",
        "            print(f'Calculating Market Factor ---- Fetching benchmark:', end=' ')\n",
        "        if benchmark is None:\n",
        "            benchmark = pdr.get_data_yahoo('^BVSP', start, end)\n",
        "            benchmark = benchmark['Adj Close'].pct_change()\n",
        "        \n",
        "        if verbose:\n",
        "            print('OK ---- Fetching SELIC:', end=' ')\n",
        "        selic = self.get_selic(start, end)\n",
        "        if verbose:\n",
        "            print('OK')\n",
        "        MKT = benchmark - selic\n",
        "        MKT.name = 'market'\n",
        "        return MKT\n",
        "    \n",
        "    def get_selic(self, start=None, end=None):\n",
        "        if start is None:\n",
        "            start = self.start\n",
        "        if end is None:\n",
        "            end = self.end\n",
        "        str_start = start.strftime('%d/%m/%Y')\n",
        "        str_end = end.strftime('%d/%m/%Y')\n",
        "        url = \"http://api.bcb.gov.br/dados/serie/bcdata.sgs.11/dados?formato=csv&dataInicial=\"+ str_start +\"&dataFinal=\"+str_end\n",
        "        selic = pd.read_csv(url, sep=\";\", decimal=',')\n",
        "        selic.index = [dt.datetime.strptime(date, '%d/%m/%Y')  for date in selic['data'] ]\n",
        "        selic['valor'] = selic['valor']/100\n",
        "        return selic['valor']\n",
        "\n",
        "\n",
        "    def to_dataframe(self):\n",
        "        df = pd.DataFrame({\n",
        "            'MKT': self.MKT,\n",
        "            'SMB': self.SMB,\n",
        "            'HML': self.HML,\n",
        "            'WML': self.WML,\n",
        "            'IML': self.IML,\n",
        "            })\n",
        "        df.name = 'risk factors'\n",
        "        return df"
      ],
      "metadata": {
        "id": "FNqlIlFOSpHO"
      },
      "execution_count": null,
      "outputs": []
    },
    {
      "cell_type": "markdown",
      "source": [
        "#Busca de Fatores"
      ],
      "metadata": {
        "id": "H_P2KFBNWcb4"
      }
    },
    {
      "cell_type": "code",
      "source": [
        "# benchmark = pd.read_excel('drive/My Drive/ibov.xlsx', header=3, index_col=0, na_values='-')['Fechamento'].dropna()\n",
        "# benchmark = benchmark.pct_change()\n",
        "benchmark = None"
      ],
      "metadata": {
        "id": "KcM_vN3LRRn2"
      },
      "execution_count": null,
      "outputs": []
    },
    {
      "cell_type": "code",
      "source": [
        "from_date = dt.datetime(2001,1,1)\n",
        "to_date = dt.datetime.today()\n",
        "factors = Factors(from_date, to_date, benchmark=benchmark, verbose=True)\n",
        "factors_df = factors.to_dataframe()\n",
        "# factors_df.dropna(inplace=True)"
      ],
      "metadata": {
        "id": "wP06T9d4S-Ob",
        "colab": {
          "base_uri": "https://localhost:8080/"
        },
        "outputId": "2fdcd66f-eddf-41c2-e332-6dd37a808dc1"
      },
      "execution_count": null,
      "outputs": [
        {
          "output_type": "stream",
          "name": "stdout",
          "text": [
            "Fetching size portfolios ---- OK\n",
            "Fetching book-to-market portfolios ---- OK\n",
            "Fetching momentum portfolios ---- OK\n",
            "Fetching illiquidity portfolios ---- OK\n",
            "Calculating Market Factor ---- Fetching benchmark: OK ---- Fetching SELIC: OK\n",
            "Calculating size factor ---- OK\n",
            "Calculating book-to-market factor ---- OK\n",
            "Calculating momentum factor ---- OK\n",
            "Calculating illiquidity factor ---- OK\n"
          ]
        }
      ]
    },
    {
      "cell_type": "code",
      "source": [
        "factors_df.dropna()"
      ],
      "metadata": {
        "colab": {
          "base_uri": "https://localhost:8080/",
          "height": 424
        },
        "id": "3JdNdT79RgOY",
        "outputId": "a1a82a6b-3de0-4bed-998f-f58290e19707"
      },
      "execution_count": null,
      "outputs": [
        {
          "output_type": "execute_result",
          "data": {
            "text/plain": [
              "                 MKT       SMB       HML       WML       IML\n",
              "2001-01-03  0.075528  0.005390  0.009390 -0.028644  0.004510\n",
              "2001-01-04  0.003995  0.006690 -0.002327 -0.000946 -0.009227\n",
              "2001-01-05 -0.016474  0.003523 -0.002397  0.005985  0.025124\n",
              "2001-01-08  0.008680  0.007883  0.001948 -0.004099 -0.001175\n",
              "2001-01-09  0.024415  0.005928 -0.000916  0.009564 -0.003978\n",
              "...              ...       ...       ...       ...       ...\n",
              "2022-11-24  0.028457  0.008471 -0.009445 -0.011714  0.003420\n",
              "2022-11-25 -0.026029 -0.001412  0.010969  0.004745 -0.003082\n",
              "2022-11-28 -0.002297 -0.015643  0.005003  0.026090 -0.007774\n",
              "2022-11-29  0.019054  0.006213  0.008128  0.000526  0.006622\n",
              "2022-11-30  0.013702 -0.007523 -0.011460 -0.006529 -0.013779\n",
              "\n",
              "[5421 rows x 5 columns]"
            ],
            "text/html": [
              "\n",
              "  <div id=\"df-d4af73a3-1e0c-4520-905f-8e5ee3179f4d\">\n",
              "    <div class=\"colab-df-container\">\n",
              "      <div>\n",
              "<style scoped>\n",
              "    .dataframe tbody tr th:only-of-type {\n",
              "        vertical-align: middle;\n",
              "    }\n",
              "\n",
              "    .dataframe tbody tr th {\n",
              "        vertical-align: top;\n",
              "    }\n",
              "\n",
              "    .dataframe thead th {\n",
              "        text-align: right;\n",
              "    }\n",
              "</style>\n",
              "<table border=\"1\" class=\"dataframe\">\n",
              "  <thead>\n",
              "    <tr style=\"text-align: right;\">\n",
              "      <th></th>\n",
              "      <th>MKT</th>\n",
              "      <th>SMB</th>\n",
              "      <th>HML</th>\n",
              "      <th>WML</th>\n",
              "      <th>IML</th>\n",
              "    </tr>\n",
              "  </thead>\n",
              "  <tbody>\n",
              "    <tr>\n",
              "      <th>2001-01-03</th>\n",
              "      <td>0.075528</td>\n",
              "      <td>0.005390</td>\n",
              "      <td>0.009390</td>\n",
              "      <td>-0.028644</td>\n",
              "      <td>0.004510</td>\n",
              "    </tr>\n",
              "    <tr>\n",
              "      <th>2001-01-04</th>\n",
              "      <td>0.003995</td>\n",
              "      <td>0.006690</td>\n",
              "      <td>-0.002327</td>\n",
              "      <td>-0.000946</td>\n",
              "      <td>-0.009227</td>\n",
              "    </tr>\n",
              "    <tr>\n",
              "      <th>2001-01-05</th>\n",
              "      <td>-0.016474</td>\n",
              "      <td>0.003523</td>\n",
              "      <td>-0.002397</td>\n",
              "      <td>0.005985</td>\n",
              "      <td>0.025124</td>\n",
              "    </tr>\n",
              "    <tr>\n",
              "      <th>2001-01-08</th>\n",
              "      <td>0.008680</td>\n",
              "      <td>0.007883</td>\n",
              "      <td>0.001948</td>\n",
              "      <td>-0.004099</td>\n",
              "      <td>-0.001175</td>\n",
              "    </tr>\n",
              "    <tr>\n",
              "      <th>2001-01-09</th>\n",
              "      <td>0.024415</td>\n",
              "      <td>0.005928</td>\n",
              "      <td>-0.000916</td>\n",
              "      <td>0.009564</td>\n",
              "      <td>-0.003978</td>\n",
              "    </tr>\n",
              "    <tr>\n",
              "      <th>...</th>\n",
              "      <td>...</td>\n",
              "      <td>...</td>\n",
              "      <td>...</td>\n",
              "      <td>...</td>\n",
              "      <td>...</td>\n",
              "    </tr>\n",
              "    <tr>\n",
              "      <th>2022-11-24</th>\n",
              "      <td>0.028457</td>\n",
              "      <td>0.008471</td>\n",
              "      <td>-0.009445</td>\n",
              "      <td>-0.011714</td>\n",
              "      <td>0.003420</td>\n",
              "    </tr>\n",
              "    <tr>\n",
              "      <th>2022-11-25</th>\n",
              "      <td>-0.026029</td>\n",
              "      <td>-0.001412</td>\n",
              "      <td>0.010969</td>\n",
              "      <td>0.004745</td>\n",
              "      <td>-0.003082</td>\n",
              "    </tr>\n",
              "    <tr>\n",
              "      <th>2022-11-28</th>\n",
              "      <td>-0.002297</td>\n",
              "      <td>-0.015643</td>\n",
              "      <td>0.005003</td>\n",
              "      <td>0.026090</td>\n",
              "      <td>-0.007774</td>\n",
              "    </tr>\n",
              "    <tr>\n",
              "      <th>2022-11-29</th>\n",
              "      <td>0.019054</td>\n",
              "      <td>0.006213</td>\n",
              "      <td>0.008128</td>\n",
              "      <td>0.000526</td>\n",
              "      <td>0.006622</td>\n",
              "    </tr>\n",
              "    <tr>\n",
              "      <th>2022-11-30</th>\n",
              "      <td>0.013702</td>\n",
              "      <td>-0.007523</td>\n",
              "      <td>-0.011460</td>\n",
              "      <td>-0.006529</td>\n",
              "      <td>-0.013779</td>\n",
              "    </tr>\n",
              "  </tbody>\n",
              "</table>\n",
              "<p>5421 rows × 5 columns</p>\n",
              "</div>\n",
              "      <button class=\"colab-df-convert\" onclick=\"convertToInteractive('df-d4af73a3-1e0c-4520-905f-8e5ee3179f4d')\"\n",
              "              title=\"Convert this dataframe to an interactive table.\"\n",
              "              style=\"display:none;\">\n",
              "        \n",
              "  <svg xmlns=\"http://www.w3.org/2000/svg\" height=\"24px\"viewBox=\"0 0 24 24\"\n",
              "       width=\"24px\">\n",
              "    <path d=\"M0 0h24v24H0V0z\" fill=\"none\"/>\n",
              "    <path d=\"M18.56 5.44l.94 2.06.94-2.06 2.06-.94-2.06-.94-.94-2.06-.94 2.06-2.06.94zm-11 1L8.5 8.5l.94-2.06 2.06-.94-2.06-.94L8.5 2.5l-.94 2.06-2.06.94zm10 10l.94 2.06.94-2.06 2.06-.94-2.06-.94-.94-2.06-.94 2.06-2.06.94z\"/><path d=\"M17.41 7.96l-1.37-1.37c-.4-.4-.92-.59-1.43-.59-.52 0-1.04.2-1.43.59L10.3 9.45l-7.72 7.72c-.78.78-.78 2.05 0 2.83L4 21.41c.39.39.9.59 1.41.59.51 0 1.02-.2 1.41-.59l7.78-7.78 2.81-2.81c.8-.78.8-2.07 0-2.86zM5.41 20L4 18.59l7.72-7.72 1.47 1.35L5.41 20z\"/>\n",
              "  </svg>\n",
              "      </button>\n",
              "      \n",
              "  <style>\n",
              "    .colab-df-container {\n",
              "      display:flex;\n",
              "      flex-wrap:wrap;\n",
              "      gap: 12px;\n",
              "    }\n",
              "\n",
              "    .colab-df-convert {\n",
              "      background-color: #E8F0FE;\n",
              "      border: none;\n",
              "      border-radius: 50%;\n",
              "      cursor: pointer;\n",
              "      display: none;\n",
              "      fill: #1967D2;\n",
              "      height: 32px;\n",
              "      padding: 0 0 0 0;\n",
              "      width: 32px;\n",
              "    }\n",
              "\n",
              "    .colab-df-convert:hover {\n",
              "      background-color: #E2EBFA;\n",
              "      box-shadow: 0px 1px 2px rgba(60, 64, 67, 0.3), 0px 1px 3px 1px rgba(60, 64, 67, 0.15);\n",
              "      fill: #174EA6;\n",
              "    }\n",
              "\n",
              "    [theme=dark] .colab-df-convert {\n",
              "      background-color: #3B4455;\n",
              "      fill: #D2E3FC;\n",
              "    }\n",
              "\n",
              "    [theme=dark] .colab-df-convert:hover {\n",
              "      background-color: #434B5C;\n",
              "      box-shadow: 0px 1px 3px 1px rgba(0, 0, 0, 0.15);\n",
              "      filter: drop-shadow(0px 1px 2px rgba(0, 0, 0, 0.3));\n",
              "      fill: #FFFFFF;\n",
              "    }\n",
              "  </style>\n",
              "\n",
              "      <script>\n",
              "        const buttonEl =\n",
              "          document.querySelector('#df-d4af73a3-1e0c-4520-905f-8e5ee3179f4d button.colab-df-convert');\n",
              "        buttonEl.style.display =\n",
              "          google.colab.kernel.accessAllowed ? 'block' : 'none';\n",
              "\n",
              "        async function convertToInteractive(key) {\n",
              "          const element = document.querySelector('#df-d4af73a3-1e0c-4520-905f-8e5ee3179f4d');\n",
              "          const dataTable =\n",
              "            await google.colab.kernel.invokeFunction('convertToInteractive',\n",
              "                                                     [key], {});\n",
              "          if (!dataTable) return;\n",
              "\n",
              "          const docLinkHtml = 'Like what you see? Visit the ' +\n",
              "            '<a target=\"_blank\" href=https://colab.research.google.com/notebooks/data_table.ipynb>data table notebook</a>'\n",
              "            + ' to learn more about interactive tables.';\n",
              "          element.innerHTML = '';\n",
              "          dataTable['output_type'] = 'display_data';\n",
              "          await google.colab.output.renderOutput(dataTable, element);\n",
              "          const docLink = document.createElement('div');\n",
              "          docLink.innerHTML = docLinkHtml;\n",
              "          element.appendChild(docLink);\n",
              "        }\n",
              "      </script>\n",
              "    </div>\n",
              "  </div>\n",
              "  "
            ]
          },
          "metadata": {},
          "execution_count": 11
        }
      ]
    },
    {
      "cell_type": "code",
      "source": [
        "factors_df.to_excel('drive/My Drive/fatores_de_risco.xlsx')"
      ],
      "metadata": {
        "id": "tjEVveDAsK5z"
      },
      "execution_count": null,
      "outputs": []
    },
    {
      "cell_type": "markdown",
      "source": [
        "#Avaliação de Portfólio"
      ],
      "metadata": {
        "id": "-VB2FjtyWiLI"
      }
    },
    {
      "cell_type": "code",
      "source": [
        "def factor_evaluation(portfolio:pd.Series, factors:pd.DataFrame):\n",
        "    df = factors.copy()\n",
        "    df['portfolio'] = portfolio\n",
        "    df = df.dropna()\n",
        "\n",
        "    X = sm.add_constant(df[factors.columns])\n",
        "    X.rename(columns={'const':'Alpha'}, inplace=True)\n",
        "    y = df['portfolio']\n",
        "\n",
        "    model = sm.OLS(y, X).fit()\n",
        "    return model\n",
        "    "
      ],
      "metadata": {
        "id": "SqRuP2mhXSMT"
      },
      "execution_count": null,
      "outputs": []
    },
    {
      "cell_type": "code",
      "source": [
        "portfolio = pd.read_excel('drive/My Drive/CSHG EC CAPITAL FIM CP IE.xlsx', header=3, index_col=0, na_values='-')\n",
        "portfolio_returns = portfolio['Cota'].pct_change()\n"
      ],
      "metadata": {
        "id": "20i5eV0CVMDv"
      },
      "execution_count": null,
      "outputs": []
    },
    {
      "cell_type": "code",
      "source": [
        "model = factor_evaluation(portfolio_returns, factors_df)\n",
        "print(model.summary2())"
      ],
      "metadata": {
        "id": "menJazdoVqh2",
        "colab": {
          "base_uri": "https://localhost:8080/"
        },
        "outputId": "2ace7ec9-6c07-4f18-a44b-6b2398dc4e1e"
      },
      "execution_count": null,
      "outputs": [
        {
          "output_type": "stream",
          "name": "stderr",
          "text": [
            "/usr/local/lib/python3.8/dist-packages/statsmodels/tsa/tsatools.py:142: FutureWarning:\n",
            "\n",
            "In a future version of pandas all arguments of concat except for the argument 'objs' will be keyword-only\n",
            "\n"
          ]
        },
        {
          "output_type": "stream",
          "name": "stdout",
          "text": [
            "                  Results: Ordinary least squares\n",
            "====================================================================\n",
            "Model:              OLS              Adj. R-squared:     0.355      \n",
            "Dependent Variable: portfolio        AIC:                -10457.8642\n",
            "Date:               2023-01-09 13:09 BIC:                -10424.0698\n",
            "No. Observations:   2064             Log-Likelihood:     5234.9     \n",
            "Df Model:           5                F-statistic:        228.3      \n",
            "Df Residuals:       2058             Prob (F-statistic): 3.51e-194  \n",
            "R-squared:          0.357            Scale:              0.00036795 \n",
            "-----------------------------------------------------------------------\n",
            "          Coef.     Std.Err.       t       P>|t|      [0.025     0.975]\n",
            "-----------------------------------------------------------------------\n",
            "Alpha     0.0021      0.0004     5.0285    0.0000     0.0013     0.0030\n",
            "MKT       0.8194      0.0296    27.7178    0.0000     0.7614     0.8774\n",
            "SMB       0.5476      0.1027     5.3342    0.0000     0.3463     0.7489\n",
            "HML      -0.3575      0.0539    -6.6333    0.0000    -0.4632    -0.2518\n",
            "WML      -0.1392      0.0423    -3.2920    0.0010    -0.2221    -0.0563\n",
            "IML       0.0066      0.1108     0.0597    0.9524    -0.2106     0.2238\n",
            "--------------------------------------------------------------------\n",
            "Omnibus:              342.150       Durbin-Watson:          1.937   \n",
            "Prob(Omnibus):        0.000         Jarque-Bera (JB):       5884.310\n",
            "Skew:                 -0.179        Prob(JB):               0.000   \n",
            "Kurtosis:             11.264        Condition No.:          349     \n",
            "====================================================================\n",
            "\n"
          ]
        }
      ]
    },
    {
      "cell_type": "code",
      "source": [
        "start = portfolio_returns.index[0]\n",
        "end = factors_df.index[-1]"
      ],
      "metadata": {
        "id": "gdZbgVvgQQ9Q"
      },
      "execution_count": null,
      "outputs": []
    },
    {
      "cell_type": "code",
      "source": [
        "factors_slice = factors_df.iloc[factors_df.index.get_loc(start, method='pad'):]"
      ],
      "metadata": {
        "id": "QY2s_ur0QYv8"
      },
      "execution_count": null,
      "outputs": []
    },
    {
      "cell_type": "code",
      "source": [
        "factors_daily_mean = (factors_slice+1).cumprod().iloc[-1]**(1/factors_slice.shape[0])-1\n",
        "factors_annual_mean = (factors_daily_mean+1)**252 -1\n",
        "alpha = (model.params['Alpha']+1)**252 -1\n",
        "factors_annual_mean"
      ],
      "metadata": {
        "colab": {
          "base_uri": "https://localhost:8080/"
        },
        "id": "x4EL0e_Camk4",
        "outputId": "6b2f1f81-ac3e-48f8-dd8f-4c7cb56a4b96"
      },
      "execution_count": null,
      "outputs": [
        {
          "output_type": "execute_result",
          "data": {
            "text/plain": [
              "MKT   -0.008015\n",
              "SMB         NaN\n",
              "HML         NaN\n",
              "WML         NaN\n",
              "IML         NaN\n",
              "Name: 2023-01-06 00:00:00, dtype: float64"
            ]
          },
          "metadata": {},
          "execution_count": 18
        }
      ]
    },
    {
      "cell_type": "code",
      "source": [
        "beta_values = dict()\n",
        "\n",
        "for coef, coef_value in model.params.items():\n",
        "    if coef == 'Alpha':\n",
        "        value = alpha\n",
        "    else:\n",
        "        value = coef_value*factors_annual_mean[coef]\n",
        "    beta_values[coef] = value\n",
        "beta_values = pd.Series(beta_values)*100\n",
        "beta_values.sort_values(ascending=False, inplace=True)"
      ],
      "metadata": {
        "id": "WyZBK8EXEg0n"
      },
      "execution_count": null,
      "outputs": []
    },
    {
      "cell_type": "code",
      "source": [
        "beta_values['Retorno Esperado'] = beta_values.sum()\n",
        "beta_values"
      ],
      "metadata": {
        "colab": {
          "base_uri": "https://localhost:8080/"
        },
        "id": "3aXR7npyH9V8",
        "outputId": "ede552c7-71d1-4817-c4d2-86d3e83c7c20"
      },
      "execution_count": null,
      "outputs": [
        {
          "output_type": "execute_result",
          "data": {
            "text/plain": [
              "Alpha               71.056145\n",
              "MKT                 -0.656801\n",
              "SMB                       NaN\n",
              "HML                       NaN\n",
              "WML                       NaN\n",
              "IML                       NaN\n",
              "Retorno Esperado    70.399344\n",
              "dtype: float64"
            ]
          },
          "metadata": {},
          "execution_count": 20
        }
      ]
    },
    {
      "cell_type": "code",
      "source": [
        "fig = go.Figure()\n",
        "\n",
        "base = 0\n",
        "\n",
        "for coef, coef_value in beta_values.items():\n",
        "    if coef == 'Retorno Esperado':\n",
        "        base=0\n",
        "    bar = go.Bar(\n",
        "        x=[coef],\n",
        "        y=[coef_value],\n",
        "        name=coef,\n",
        "        base=base\n",
        "    )\n",
        "    base += coef_value\n",
        "    fig.add_trace(bar)\n",
        "\n",
        "fig.update_layout(\n",
        "    template='plotly_white',\n",
        "    title_text=f\"Composição do Retorno Anual Esperado <br><sup>Dados entre {start.strftime('%d/%m/%Y')} e {end.strftime('%d/%m/%Y')}</sup> <br><sup>Fontes: TC Economatica | NEFIN FEA-USP</sup>\",\n",
        "    height=400, width=800,\n",
        "    # xaxis_title=\"Tempo\",\n",
        "    yaxis_title='Retorno (%)',\n",
        "    # legend_title='Tradings',\n",
        ")\n",
        "\n",
        "fig.show()"
      ],
      "metadata": {
        "colab": {
          "base_uri": "https://localhost:8080/",
          "height": 417
        },
        "id": "ta8HhiEDYgfP",
        "outputId": "6aa0ca5c-cf59-49ee-c021-5aa0180190d8"
      },
      "execution_count": null,
      "outputs": [
        {
          "output_type": "display_data",
          "data": {
            "text/html": [
              "<html>\n",
              "<head><meta charset=\"utf-8\" /></head>\n",
              "<body>\n",
              "    <div>            <script src=\"https://cdnjs.cloudflare.com/ajax/libs/mathjax/2.7.5/MathJax.js?config=TeX-AMS-MML_SVG\"></script><script type=\"text/javascript\">if (window.MathJax) {MathJax.Hub.Config({SVG: {font: \"STIX-Web\"}});}</script>                <script type=\"text/javascript\">window.PlotlyConfig = {MathJaxConfig: 'local'};</script>\n",
              "        <script src=\"https://cdn.plot.ly/plotly-2.8.3.min.js\"></script>                <div id=\"70e3f35f-16fb-4f20-a8ec-32722a91313a\" class=\"plotly-graph-div\" style=\"height:400px; width:800px;\"></div>            <script type=\"text/javascript\">                                    window.PLOTLYENV=window.PLOTLYENV || {};                                    if (document.getElementById(\"70e3f35f-16fb-4f20-a8ec-32722a91313a\")) {                    Plotly.newPlot(                        \"70e3f35f-16fb-4f20-a8ec-32722a91313a\",                        [{\"base\":0,\"name\":\"Alpha\",\"x\":[\"Alpha\"],\"y\":[71.05614478311738],\"type\":\"bar\"},{\"base\":71.05614478311738,\"name\":\"MKT\",\"x\":[\"MKT\"],\"y\":[-0.6568009420982734],\"type\":\"bar\"},{\"base\":70.3993438410191,\"name\":\"SMB\",\"x\":[\"SMB\"],\"y\":[null],\"type\":\"bar\"},{\"base\":null,\"name\":\"HML\",\"x\":[\"HML\"],\"y\":[null],\"type\":\"bar\"},{\"base\":null,\"name\":\"WML\",\"x\":[\"WML\"],\"y\":[null],\"type\":\"bar\"},{\"base\":null,\"name\":\"IML\",\"x\":[\"IML\"],\"y\":[null],\"type\":\"bar\"},{\"base\":0,\"name\":\"Retorno Esperado\",\"x\":[\"Retorno Esperado\"],\"y\":[70.3993438410191],\"type\":\"bar\"}],                        {\"template\":{\"data\":{\"barpolar\":[{\"marker\":{\"line\":{\"color\":\"white\",\"width\":0.5},\"pattern\":{\"fillmode\":\"overlay\",\"size\":10,\"solidity\":0.2}},\"type\":\"barpolar\"}],\"bar\":[{\"error_x\":{\"color\":\"#2a3f5f\"},\"error_y\":{\"color\":\"#2a3f5f\"},\"marker\":{\"line\":{\"color\":\"white\",\"width\":0.5},\"pattern\":{\"fillmode\":\"overlay\",\"size\":10,\"solidity\":0.2}},\"type\":\"bar\"}],\"carpet\":[{\"aaxis\":{\"endlinecolor\":\"#2a3f5f\",\"gridcolor\":\"#C8D4E3\",\"linecolor\":\"#C8D4E3\",\"minorgridcolor\":\"#C8D4E3\",\"startlinecolor\":\"#2a3f5f\"},\"baxis\":{\"endlinecolor\":\"#2a3f5f\",\"gridcolor\":\"#C8D4E3\",\"linecolor\":\"#C8D4E3\",\"minorgridcolor\":\"#C8D4E3\",\"startlinecolor\":\"#2a3f5f\"},\"type\":\"carpet\"}],\"choropleth\":[{\"colorbar\":{\"outlinewidth\":0,\"ticks\":\"\"},\"type\":\"choropleth\"}],\"contourcarpet\":[{\"colorbar\":{\"outlinewidth\":0,\"ticks\":\"\"},\"type\":\"contourcarpet\"}],\"contour\":[{\"colorbar\":{\"outlinewidth\":0,\"ticks\":\"\"},\"colorscale\":[[0.0,\"#0d0887\"],[0.1111111111111111,\"#46039f\"],[0.2222222222222222,\"#7201a8\"],[0.3333333333333333,\"#9c179e\"],[0.4444444444444444,\"#bd3786\"],[0.5555555555555556,\"#d8576b\"],[0.6666666666666666,\"#ed7953\"],[0.7777777777777778,\"#fb9f3a\"],[0.8888888888888888,\"#fdca26\"],[1.0,\"#f0f921\"]],\"type\":\"contour\"}],\"heatmapgl\":[{\"colorbar\":{\"outlinewidth\":0,\"ticks\":\"\"},\"colorscale\":[[0.0,\"#0d0887\"],[0.1111111111111111,\"#46039f\"],[0.2222222222222222,\"#7201a8\"],[0.3333333333333333,\"#9c179e\"],[0.4444444444444444,\"#bd3786\"],[0.5555555555555556,\"#d8576b\"],[0.6666666666666666,\"#ed7953\"],[0.7777777777777778,\"#fb9f3a\"],[0.8888888888888888,\"#fdca26\"],[1.0,\"#f0f921\"]],\"type\":\"heatmapgl\"}],\"heatmap\":[{\"colorbar\":{\"outlinewidth\":0,\"ticks\":\"\"},\"colorscale\":[[0.0,\"#0d0887\"],[0.1111111111111111,\"#46039f\"],[0.2222222222222222,\"#7201a8\"],[0.3333333333333333,\"#9c179e\"],[0.4444444444444444,\"#bd3786\"],[0.5555555555555556,\"#d8576b\"],[0.6666666666666666,\"#ed7953\"],[0.7777777777777778,\"#fb9f3a\"],[0.8888888888888888,\"#fdca26\"],[1.0,\"#f0f921\"]],\"type\":\"heatmap\"}],\"histogram2dcontour\":[{\"colorbar\":{\"outlinewidth\":0,\"ticks\":\"\"},\"colorscale\":[[0.0,\"#0d0887\"],[0.1111111111111111,\"#46039f\"],[0.2222222222222222,\"#7201a8\"],[0.3333333333333333,\"#9c179e\"],[0.4444444444444444,\"#bd3786\"],[0.5555555555555556,\"#d8576b\"],[0.6666666666666666,\"#ed7953\"],[0.7777777777777778,\"#fb9f3a\"],[0.8888888888888888,\"#fdca26\"],[1.0,\"#f0f921\"]],\"type\":\"histogram2dcontour\"}],\"histogram2d\":[{\"colorbar\":{\"outlinewidth\":0,\"ticks\":\"\"},\"colorscale\":[[0.0,\"#0d0887\"],[0.1111111111111111,\"#46039f\"],[0.2222222222222222,\"#7201a8\"],[0.3333333333333333,\"#9c179e\"],[0.4444444444444444,\"#bd3786\"],[0.5555555555555556,\"#d8576b\"],[0.6666666666666666,\"#ed7953\"],[0.7777777777777778,\"#fb9f3a\"],[0.8888888888888888,\"#fdca26\"],[1.0,\"#f0f921\"]],\"type\":\"histogram2d\"}],\"histogram\":[{\"marker\":{\"pattern\":{\"fillmode\":\"overlay\",\"size\":10,\"solidity\":0.2}},\"type\":\"histogram\"}],\"mesh3d\":[{\"colorbar\":{\"outlinewidth\":0,\"ticks\":\"\"},\"type\":\"mesh3d\"}],\"parcoords\":[{\"line\":{\"colorbar\":{\"outlinewidth\":0,\"ticks\":\"\"}},\"type\":\"parcoords\"}],\"pie\":[{\"automargin\":true,\"type\":\"pie\"}],\"scatter3d\":[{\"line\":{\"colorbar\":{\"outlinewidth\":0,\"ticks\":\"\"}},\"marker\":{\"colorbar\":{\"outlinewidth\":0,\"ticks\":\"\"}},\"type\":\"scatter3d\"}],\"scattercarpet\":[{\"marker\":{\"colorbar\":{\"outlinewidth\":0,\"ticks\":\"\"}},\"type\":\"scattercarpet\"}],\"scattergeo\":[{\"marker\":{\"colorbar\":{\"outlinewidth\":0,\"ticks\":\"\"}},\"type\":\"scattergeo\"}],\"scattergl\":[{\"marker\":{\"colorbar\":{\"outlinewidth\":0,\"ticks\":\"\"}},\"type\":\"scattergl\"}],\"scattermapbox\":[{\"marker\":{\"colorbar\":{\"outlinewidth\":0,\"ticks\":\"\"}},\"type\":\"scattermapbox\"}],\"scatterpolargl\":[{\"marker\":{\"colorbar\":{\"outlinewidth\":0,\"ticks\":\"\"}},\"type\":\"scatterpolargl\"}],\"scatterpolar\":[{\"marker\":{\"colorbar\":{\"outlinewidth\":0,\"ticks\":\"\"}},\"type\":\"scatterpolar\"}],\"scatter\":[{\"marker\":{\"colorbar\":{\"outlinewidth\":0,\"ticks\":\"\"}},\"type\":\"scatter\"}],\"scatterternary\":[{\"marker\":{\"colorbar\":{\"outlinewidth\":0,\"ticks\":\"\"}},\"type\":\"scatterternary\"}],\"surface\":[{\"colorbar\":{\"outlinewidth\":0,\"ticks\":\"\"},\"colorscale\":[[0.0,\"#0d0887\"],[0.1111111111111111,\"#46039f\"],[0.2222222222222222,\"#7201a8\"],[0.3333333333333333,\"#9c179e\"],[0.4444444444444444,\"#bd3786\"],[0.5555555555555556,\"#d8576b\"],[0.6666666666666666,\"#ed7953\"],[0.7777777777777778,\"#fb9f3a\"],[0.8888888888888888,\"#fdca26\"],[1.0,\"#f0f921\"]],\"type\":\"surface\"}],\"table\":[{\"cells\":{\"fill\":{\"color\":\"#EBF0F8\"},\"line\":{\"color\":\"white\"}},\"header\":{\"fill\":{\"color\":\"#C8D4E3\"},\"line\":{\"color\":\"white\"}},\"type\":\"table\"}]},\"layout\":{\"annotationdefaults\":{\"arrowcolor\":\"#2a3f5f\",\"arrowhead\":0,\"arrowwidth\":1},\"autotypenumbers\":\"strict\",\"coloraxis\":{\"colorbar\":{\"outlinewidth\":0,\"ticks\":\"\"}},\"colorscale\":{\"diverging\":[[0,\"#8e0152\"],[0.1,\"#c51b7d\"],[0.2,\"#de77ae\"],[0.3,\"#f1b6da\"],[0.4,\"#fde0ef\"],[0.5,\"#f7f7f7\"],[0.6,\"#e6f5d0\"],[0.7,\"#b8e186\"],[0.8,\"#7fbc41\"],[0.9,\"#4d9221\"],[1,\"#276419\"]],\"sequential\":[[0.0,\"#0d0887\"],[0.1111111111111111,\"#46039f\"],[0.2222222222222222,\"#7201a8\"],[0.3333333333333333,\"#9c179e\"],[0.4444444444444444,\"#bd3786\"],[0.5555555555555556,\"#d8576b\"],[0.6666666666666666,\"#ed7953\"],[0.7777777777777778,\"#fb9f3a\"],[0.8888888888888888,\"#fdca26\"],[1.0,\"#f0f921\"]],\"sequentialminus\":[[0.0,\"#0d0887\"],[0.1111111111111111,\"#46039f\"],[0.2222222222222222,\"#7201a8\"],[0.3333333333333333,\"#9c179e\"],[0.4444444444444444,\"#bd3786\"],[0.5555555555555556,\"#d8576b\"],[0.6666666666666666,\"#ed7953\"],[0.7777777777777778,\"#fb9f3a\"],[0.8888888888888888,\"#fdca26\"],[1.0,\"#f0f921\"]]},\"colorway\":[\"#636efa\",\"#EF553B\",\"#00cc96\",\"#ab63fa\",\"#FFA15A\",\"#19d3f3\",\"#FF6692\",\"#B6E880\",\"#FF97FF\",\"#FECB52\"],\"font\":{\"color\":\"#2a3f5f\"},\"geo\":{\"bgcolor\":\"white\",\"lakecolor\":\"white\",\"landcolor\":\"white\",\"showlakes\":true,\"showland\":true,\"subunitcolor\":\"#C8D4E3\"},\"hoverlabel\":{\"align\":\"left\"},\"hovermode\":\"closest\",\"mapbox\":{\"style\":\"light\"},\"paper_bgcolor\":\"white\",\"plot_bgcolor\":\"white\",\"polar\":{\"angularaxis\":{\"gridcolor\":\"#EBF0F8\",\"linecolor\":\"#EBF0F8\",\"ticks\":\"\"},\"bgcolor\":\"white\",\"radialaxis\":{\"gridcolor\":\"#EBF0F8\",\"linecolor\":\"#EBF0F8\",\"ticks\":\"\"}},\"scene\":{\"xaxis\":{\"backgroundcolor\":\"white\",\"gridcolor\":\"#DFE8F3\",\"gridwidth\":2,\"linecolor\":\"#EBF0F8\",\"showbackground\":true,\"ticks\":\"\",\"zerolinecolor\":\"#EBF0F8\"},\"yaxis\":{\"backgroundcolor\":\"white\",\"gridcolor\":\"#DFE8F3\",\"gridwidth\":2,\"linecolor\":\"#EBF0F8\",\"showbackground\":true,\"ticks\":\"\",\"zerolinecolor\":\"#EBF0F8\"},\"zaxis\":{\"backgroundcolor\":\"white\",\"gridcolor\":\"#DFE8F3\",\"gridwidth\":2,\"linecolor\":\"#EBF0F8\",\"showbackground\":true,\"ticks\":\"\",\"zerolinecolor\":\"#EBF0F8\"}},\"shapedefaults\":{\"line\":{\"color\":\"#2a3f5f\"}},\"ternary\":{\"aaxis\":{\"gridcolor\":\"#DFE8F3\",\"linecolor\":\"#A2B1C6\",\"ticks\":\"\"},\"baxis\":{\"gridcolor\":\"#DFE8F3\",\"linecolor\":\"#A2B1C6\",\"ticks\":\"\"},\"bgcolor\":\"white\",\"caxis\":{\"gridcolor\":\"#DFE8F3\",\"linecolor\":\"#A2B1C6\",\"ticks\":\"\"}},\"title\":{\"x\":0.05},\"xaxis\":{\"automargin\":true,\"gridcolor\":\"#EBF0F8\",\"linecolor\":\"#EBF0F8\",\"ticks\":\"\",\"title\":{\"standoff\":15},\"zerolinecolor\":\"#EBF0F8\",\"zerolinewidth\":2},\"yaxis\":{\"automargin\":true,\"gridcolor\":\"#EBF0F8\",\"linecolor\":\"#EBF0F8\",\"ticks\":\"\",\"title\":{\"standoff\":15},\"zerolinecolor\":\"#EBF0F8\",\"zerolinewidth\":2}}},\"title\":{\"text\":\"Composi\\u00e7\\u00e3o do Retorno Anual Esperado <br><sup>Dados entre 25/07/2014 e 06/01/2023</sup> <br><sup>Fontes: TC Economatica | NEFIN FEA-USP</sup>\"},\"height\":400,\"width\":800,\"yaxis\":{\"title\":{\"text\":\"Retorno (%)\"}}},                        {\"responsive\": true}                    ).then(function(){\n",
              "                            \n",
              "var gd = document.getElementById('70e3f35f-16fb-4f20-a8ec-32722a91313a');\n",
              "var x = new MutationObserver(function (mutations, observer) {{\n",
              "        var display = window.getComputedStyle(gd).display;\n",
              "        if (!display || display === 'none') {{\n",
              "            console.log([gd, 'removed!']);\n",
              "            Plotly.purge(gd);\n",
              "            observer.disconnect();\n",
              "        }}\n",
              "}});\n",
              "\n",
              "// Listen for the removal of the full notebook cells\n",
              "var notebookContainer = gd.closest('#notebook-container');\n",
              "if (notebookContainer) {{\n",
              "    x.observe(notebookContainer, {childList: true});\n",
              "}}\n",
              "\n",
              "// Listen for the clearing of the current output cell\n",
              "var outputEl = gd.closest('.output');\n",
              "if (outputEl) {{\n",
              "    x.observe(outputEl, {childList: true});\n",
              "}}\n",
              "\n",
              "                        })                };                            </script>        </div>\n",
              "</body>\n",
              "</html>"
            ]
          },
          "metadata": {}
        }
      ]
    },
    {
      "cell_type": "code",
      "source": [
        "color = {\n",
        "    'MKT': 'blue',\n",
        "    'SMB': 'brown',\n",
        "    'HML': 'gray',\n",
        "    'WML': 'orange',\n",
        "    'IML': 'purple',\n",
        "    'Alpha': 'green',\n",
        "\n",
        "}"
      ],
      "metadata": {
        "id": "lLTvwZ_Ba_jH"
      },
      "execution_count": null,
      "outputs": []
    },
    {
      "cell_type": "code",
      "source": [
        "fig = make_subplots(rows=2, cols=1, subplot_titles=('Coeficientes', 'P-Valores'), shared_xaxes=True)\n",
        "\n",
        "for coef, coef_value in model.pvalues.items():\n",
        "    bar = go.Bar(\n",
        "        x = [coef],\n",
        "        y = [coef_value],\n",
        "        marker_color=color[coef],\n",
        "        showlegend=False,\n",
        "    )\n",
        "    fig.add_trace(bar, row=2, col=1)\n",
        "\n",
        "signifiant_limit = go.Scatter(\n",
        "    x = model.tvalues.index,\n",
        "    y = [0.05 for _ in model.tvalues],\n",
        "    marker_color='red',\n",
        "    name = 'Limite de<br>significância (0.05)',\n",
        "    mode='lines'\n",
        ")\n",
        "fig.add_trace(signifiant_limit, row=2, col=1)\n",
        "\n",
        "for coef, coef_value in model.params.sort_values(ascending=True).items():\n",
        "    if coef == 'Alpha':\n",
        "        coef_value = alpha\n",
        "    bar = go.Bar(\n",
        "        x = [coef],\n",
        "        y = [coef_value],\n",
        "        marker_color=color[coef],\n",
        "        showlegend=False,\n",
        "    )\n",
        "    fig.add_trace(bar, row=1, col=1)\n",
        "\n",
        "\n",
        "fig.update_layout(\n",
        "    template='plotly_white',\n",
        "    title_text=f\"Coeficientes do Modelo Multifatorial<br><sup>Fontes: TC Economatica | NEFIN FEA-USP</sup>\",\n",
        "    height=450, width=800,\n",
        "    # xaxis_title=\"Tempo\",\n",
        "    # yaxis_title='Retorno (%)',\n",
        "    # legend_title='Tradings',\n",
        ")\n",
        "\n",
        "\n",
        "fig.show()"
      ],
      "metadata": {
        "id": "I0i1i8gacXC2",
        "colab": {
          "base_uri": "https://localhost:8080/",
          "height": 536
        },
        "outputId": "58ca7cac-ea45-482e-840b-0cf7d6091315"
      },
      "execution_count": null,
      "outputs": [
        {
          "output_type": "stream",
          "name": "stderr",
          "text": [
            "/usr/local/lib/python3.8/dist-packages/plotly/tools.py:461: DeprecationWarning:\n",
            "\n",
            "plotly.tools.make_subplots is deprecated, please use plotly.subplots.make_subplots instead\n",
            "\n"
          ]
        },
        {
          "output_type": "display_data",
          "data": {
            "text/html": [
              "<html>\n",
              "<head><meta charset=\"utf-8\" /></head>\n",
              "<body>\n",
              "    <div>            <script src=\"https://cdnjs.cloudflare.com/ajax/libs/mathjax/2.7.5/MathJax.js?config=TeX-AMS-MML_SVG\"></script><script type=\"text/javascript\">if (window.MathJax) {MathJax.Hub.Config({SVG: {font: \"STIX-Web\"}});}</script>                <script type=\"text/javascript\">window.PlotlyConfig = {MathJaxConfig: 'local'};</script>\n",
              "        <script src=\"https://cdn.plot.ly/plotly-2.8.3.min.js\"></script>                <div id=\"dee22027-0f83-45fc-b955-5667c349238b\" class=\"plotly-graph-div\" style=\"height:450px; width:800px;\"></div>            <script type=\"text/javascript\">                                    window.PLOTLYENV=window.PLOTLYENV || {};                                    if (document.getElementById(\"dee22027-0f83-45fc-b955-5667c349238b\")) {                    Plotly.newPlot(                        \"dee22027-0f83-45fc-b955-5667c349238b\",                        [{\"marker\":{\"color\":\"green\"},\"showlegend\":false,\"x\":[\"Alpha\"],\"y\":[5.370696280759217e-07],\"type\":\"bar\",\"xaxis\":\"x2\",\"yaxis\":\"y2\"},{\"marker\":{\"color\":\"blue\"},\"showlegend\":false,\"x\":[\"MKT\"],\"y\":[5.793761673772589e-144],\"type\":\"bar\",\"xaxis\":\"x2\",\"yaxis\":\"y2\"},{\"marker\":{\"color\":\"brown\"},\"showlegend\":false,\"x\":[\"SMB\"],\"y\":[1.0652446793540286e-07],\"type\":\"bar\",\"xaxis\":\"x2\",\"yaxis\":\"y2\"},{\"marker\":{\"color\":\"gray\"},\"showlegend\":false,\"x\":[\"HML\"],\"y\":[4.182707493402019e-11],\"type\":\"bar\",\"xaxis\":\"x2\",\"yaxis\":\"y2\"},{\"marker\":{\"color\":\"orange\"},\"showlegend\":false,\"x\":[\"WML\"],\"y\":[0.001011532665728295],\"type\":\"bar\",\"xaxis\":\"x2\",\"yaxis\":\"y2\"},{\"marker\":{\"color\":\"purple\"},\"showlegend\":false,\"x\":[\"IML\"],\"y\":[0.9524399480782996],\"type\":\"bar\",\"xaxis\":\"x2\",\"yaxis\":\"y2\"},{\"marker\":{\"color\":\"red\"},\"mode\":\"lines\",\"name\":\"Limite de<br>signific\\u00e2ncia (0.05)\",\"x\":[\"Alpha\",\"MKT\",\"SMB\",\"HML\",\"WML\",\"IML\"],\"y\":[0.05,0.05,0.05,0.05,0.05,0.05],\"type\":\"scatter\",\"xaxis\":\"x2\",\"yaxis\":\"y2\"},{\"marker\":{\"color\":\"gray\"},\"showlegend\":false,\"x\":[\"HML\"],\"y\":[-0.3575344329498835],\"type\":\"bar\",\"xaxis\":\"x\",\"yaxis\":\"y\"},{\"marker\":{\"color\":\"orange\"},\"showlegend\":false,\"x\":[\"WML\"],\"y\":[-0.1391721006222389],\"type\":\"bar\",\"xaxis\":\"x\",\"yaxis\":\"y\"},{\"marker\":{\"color\":\"green\"},\"showlegend\":false,\"x\":[\"Alpha\"],\"y\":[0.7105614478311737],\"type\":\"bar\",\"xaxis\":\"x\",\"yaxis\":\"y\"},{\"marker\":{\"color\":\"purple\"},\"showlegend\":false,\"x\":[\"IML\"],\"y\":[0.00660680700104564],\"type\":\"bar\",\"xaxis\":\"x\",\"yaxis\":\"y\"},{\"marker\":{\"color\":\"brown\"},\"showlegend\":false,\"x\":[\"SMB\"],\"y\":[0.5475850218801848],\"type\":\"bar\",\"xaxis\":\"x\",\"yaxis\":\"y\"},{\"marker\":{\"color\":\"blue\"},\"showlegend\":false,\"x\":[\"MKT\"],\"y\":[0.8194240591636552],\"type\":\"bar\",\"xaxis\":\"x\",\"yaxis\":\"y\"}],                        {\"template\":{\"data\":{\"barpolar\":[{\"marker\":{\"line\":{\"color\":\"white\",\"width\":0.5},\"pattern\":{\"fillmode\":\"overlay\",\"size\":10,\"solidity\":0.2}},\"type\":\"barpolar\"}],\"bar\":[{\"error_x\":{\"color\":\"#2a3f5f\"},\"error_y\":{\"color\":\"#2a3f5f\"},\"marker\":{\"line\":{\"color\":\"white\",\"width\":0.5},\"pattern\":{\"fillmode\":\"overlay\",\"size\":10,\"solidity\":0.2}},\"type\":\"bar\"}],\"carpet\":[{\"aaxis\":{\"endlinecolor\":\"#2a3f5f\",\"gridcolor\":\"#C8D4E3\",\"linecolor\":\"#C8D4E3\",\"minorgridcolor\":\"#C8D4E3\",\"startlinecolor\":\"#2a3f5f\"},\"baxis\":{\"endlinecolor\":\"#2a3f5f\",\"gridcolor\":\"#C8D4E3\",\"linecolor\":\"#C8D4E3\",\"minorgridcolor\":\"#C8D4E3\",\"startlinecolor\":\"#2a3f5f\"},\"type\":\"carpet\"}],\"choropleth\":[{\"colorbar\":{\"outlinewidth\":0,\"ticks\":\"\"},\"type\":\"choropleth\"}],\"contourcarpet\":[{\"colorbar\":{\"outlinewidth\":0,\"ticks\":\"\"},\"type\":\"contourcarpet\"}],\"contour\":[{\"colorbar\":{\"outlinewidth\":0,\"ticks\":\"\"},\"colorscale\":[[0.0,\"#0d0887\"],[0.1111111111111111,\"#46039f\"],[0.2222222222222222,\"#7201a8\"],[0.3333333333333333,\"#9c179e\"],[0.4444444444444444,\"#bd3786\"],[0.5555555555555556,\"#d8576b\"],[0.6666666666666666,\"#ed7953\"],[0.7777777777777778,\"#fb9f3a\"],[0.8888888888888888,\"#fdca26\"],[1.0,\"#f0f921\"]],\"type\":\"contour\"}],\"heatmapgl\":[{\"colorbar\":{\"outlinewidth\":0,\"ticks\":\"\"},\"colorscale\":[[0.0,\"#0d0887\"],[0.1111111111111111,\"#46039f\"],[0.2222222222222222,\"#7201a8\"],[0.3333333333333333,\"#9c179e\"],[0.4444444444444444,\"#bd3786\"],[0.5555555555555556,\"#d8576b\"],[0.6666666666666666,\"#ed7953\"],[0.7777777777777778,\"#fb9f3a\"],[0.8888888888888888,\"#fdca26\"],[1.0,\"#f0f921\"]],\"type\":\"heatmapgl\"}],\"heatmap\":[{\"colorbar\":{\"outlinewidth\":0,\"ticks\":\"\"},\"colorscale\":[[0.0,\"#0d0887\"],[0.1111111111111111,\"#46039f\"],[0.2222222222222222,\"#7201a8\"],[0.3333333333333333,\"#9c179e\"],[0.4444444444444444,\"#bd3786\"],[0.5555555555555556,\"#d8576b\"],[0.6666666666666666,\"#ed7953\"],[0.7777777777777778,\"#fb9f3a\"],[0.8888888888888888,\"#fdca26\"],[1.0,\"#f0f921\"]],\"type\":\"heatmap\"}],\"histogram2dcontour\":[{\"colorbar\":{\"outlinewidth\":0,\"ticks\":\"\"},\"colorscale\":[[0.0,\"#0d0887\"],[0.1111111111111111,\"#46039f\"],[0.2222222222222222,\"#7201a8\"],[0.3333333333333333,\"#9c179e\"],[0.4444444444444444,\"#bd3786\"],[0.5555555555555556,\"#d8576b\"],[0.6666666666666666,\"#ed7953\"],[0.7777777777777778,\"#fb9f3a\"],[0.8888888888888888,\"#fdca26\"],[1.0,\"#f0f921\"]],\"type\":\"histogram2dcontour\"}],\"histogram2d\":[{\"colorbar\":{\"outlinewidth\":0,\"ticks\":\"\"},\"colorscale\":[[0.0,\"#0d0887\"],[0.1111111111111111,\"#46039f\"],[0.2222222222222222,\"#7201a8\"],[0.3333333333333333,\"#9c179e\"],[0.4444444444444444,\"#bd3786\"],[0.5555555555555556,\"#d8576b\"],[0.6666666666666666,\"#ed7953\"],[0.7777777777777778,\"#fb9f3a\"],[0.8888888888888888,\"#fdca26\"],[1.0,\"#f0f921\"]],\"type\":\"histogram2d\"}],\"histogram\":[{\"marker\":{\"pattern\":{\"fillmode\":\"overlay\",\"size\":10,\"solidity\":0.2}},\"type\":\"histogram\"}],\"mesh3d\":[{\"colorbar\":{\"outlinewidth\":0,\"ticks\":\"\"},\"type\":\"mesh3d\"}],\"parcoords\":[{\"line\":{\"colorbar\":{\"outlinewidth\":0,\"ticks\":\"\"}},\"type\":\"parcoords\"}],\"pie\":[{\"automargin\":true,\"type\":\"pie\"}],\"scatter3d\":[{\"line\":{\"colorbar\":{\"outlinewidth\":0,\"ticks\":\"\"}},\"marker\":{\"colorbar\":{\"outlinewidth\":0,\"ticks\":\"\"}},\"type\":\"scatter3d\"}],\"scattercarpet\":[{\"marker\":{\"colorbar\":{\"outlinewidth\":0,\"ticks\":\"\"}},\"type\":\"scattercarpet\"}],\"scattergeo\":[{\"marker\":{\"colorbar\":{\"outlinewidth\":0,\"ticks\":\"\"}},\"type\":\"scattergeo\"}],\"scattergl\":[{\"marker\":{\"colorbar\":{\"outlinewidth\":0,\"ticks\":\"\"}},\"type\":\"scattergl\"}],\"scattermapbox\":[{\"marker\":{\"colorbar\":{\"outlinewidth\":0,\"ticks\":\"\"}},\"type\":\"scattermapbox\"}],\"scatterpolargl\":[{\"marker\":{\"colorbar\":{\"outlinewidth\":0,\"ticks\":\"\"}},\"type\":\"scatterpolargl\"}],\"scatterpolar\":[{\"marker\":{\"colorbar\":{\"outlinewidth\":0,\"ticks\":\"\"}},\"type\":\"scatterpolar\"}],\"scatter\":[{\"marker\":{\"colorbar\":{\"outlinewidth\":0,\"ticks\":\"\"}},\"type\":\"scatter\"}],\"scatterternary\":[{\"marker\":{\"colorbar\":{\"outlinewidth\":0,\"ticks\":\"\"}},\"type\":\"scatterternary\"}],\"surface\":[{\"colorbar\":{\"outlinewidth\":0,\"ticks\":\"\"},\"colorscale\":[[0.0,\"#0d0887\"],[0.1111111111111111,\"#46039f\"],[0.2222222222222222,\"#7201a8\"],[0.3333333333333333,\"#9c179e\"],[0.4444444444444444,\"#bd3786\"],[0.5555555555555556,\"#d8576b\"],[0.6666666666666666,\"#ed7953\"],[0.7777777777777778,\"#fb9f3a\"],[0.8888888888888888,\"#fdca26\"],[1.0,\"#f0f921\"]],\"type\":\"surface\"}],\"table\":[{\"cells\":{\"fill\":{\"color\":\"#EBF0F8\"},\"line\":{\"color\":\"white\"}},\"header\":{\"fill\":{\"color\":\"#C8D4E3\"},\"line\":{\"color\":\"white\"}},\"type\":\"table\"}]},\"layout\":{\"annotationdefaults\":{\"arrowcolor\":\"#2a3f5f\",\"arrowhead\":0,\"arrowwidth\":1},\"autotypenumbers\":\"strict\",\"coloraxis\":{\"colorbar\":{\"outlinewidth\":0,\"ticks\":\"\"}},\"colorscale\":{\"diverging\":[[0,\"#8e0152\"],[0.1,\"#c51b7d\"],[0.2,\"#de77ae\"],[0.3,\"#f1b6da\"],[0.4,\"#fde0ef\"],[0.5,\"#f7f7f7\"],[0.6,\"#e6f5d0\"],[0.7,\"#b8e186\"],[0.8,\"#7fbc41\"],[0.9,\"#4d9221\"],[1,\"#276419\"]],\"sequential\":[[0.0,\"#0d0887\"],[0.1111111111111111,\"#46039f\"],[0.2222222222222222,\"#7201a8\"],[0.3333333333333333,\"#9c179e\"],[0.4444444444444444,\"#bd3786\"],[0.5555555555555556,\"#d8576b\"],[0.6666666666666666,\"#ed7953\"],[0.7777777777777778,\"#fb9f3a\"],[0.8888888888888888,\"#fdca26\"],[1.0,\"#f0f921\"]],\"sequentialminus\":[[0.0,\"#0d0887\"],[0.1111111111111111,\"#46039f\"],[0.2222222222222222,\"#7201a8\"],[0.3333333333333333,\"#9c179e\"],[0.4444444444444444,\"#bd3786\"],[0.5555555555555556,\"#d8576b\"],[0.6666666666666666,\"#ed7953\"],[0.7777777777777778,\"#fb9f3a\"],[0.8888888888888888,\"#fdca26\"],[1.0,\"#f0f921\"]]},\"colorway\":[\"#636efa\",\"#EF553B\",\"#00cc96\",\"#ab63fa\",\"#FFA15A\",\"#19d3f3\",\"#FF6692\",\"#B6E880\",\"#FF97FF\",\"#FECB52\"],\"font\":{\"color\":\"#2a3f5f\"},\"geo\":{\"bgcolor\":\"white\",\"lakecolor\":\"white\",\"landcolor\":\"white\",\"showlakes\":true,\"showland\":true,\"subunitcolor\":\"#C8D4E3\"},\"hoverlabel\":{\"align\":\"left\"},\"hovermode\":\"closest\",\"mapbox\":{\"style\":\"light\"},\"paper_bgcolor\":\"white\",\"plot_bgcolor\":\"white\",\"polar\":{\"angularaxis\":{\"gridcolor\":\"#EBF0F8\",\"linecolor\":\"#EBF0F8\",\"ticks\":\"\"},\"bgcolor\":\"white\",\"radialaxis\":{\"gridcolor\":\"#EBF0F8\",\"linecolor\":\"#EBF0F8\",\"ticks\":\"\"}},\"scene\":{\"xaxis\":{\"backgroundcolor\":\"white\",\"gridcolor\":\"#DFE8F3\",\"gridwidth\":2,\"linecolor\":\"#EBF0F8\",\"showbackground\":true,\"ticks\":\"\",\"zerolinecolor\":\"#EBF0F8\"},\"yaxis\":{\"backgroundcolor\":\"white\",\"gridcolor\":\"#DFE8F3\",\"gridwidth\":2,\"linecolor\":\"#EBF0F8\",\"showbackground\":true,\"ticks\":\"\",\"zerolinecolor\":\"#EBF0F8\"},\"zaxis\":{\"backgroundcolor\":\"white\",\"gridcolor\":\"#DFE8F3\",\"gridwidth\":2,\"linecolor\":\"#EBF0F8\",\"showbackground\":true,\"ticks\":\"\",\"zerolinecolor\":\"#EBF0F8\"}},\"shapedefaults\":{\"line\":{\"color\":\"#2a3f5f\"}},\"ternary\":{\"aaxis\":{\"gridcolor\":\"#DFE8F3\",\"linecolor\":\"#A2B1C6\",\"ticks\":\"\"},\"baxis\":{\"gridcolor\":\"#DFE8F3\",\"linecolor\":\"#A2B1C6\",\"ticks\":\"\"},\"bgcolor\":\"white\",\"caxis\":{\"gridcolor\":\"#DFE8F3\",\"linecolor\":\"#A2B1C6\",\"ticks\":\"\"}},\"title\":{\"x\":0.05},\"xaxis\":{\"automargin\":true,\"gridcolor\":\"#EBF0F8\",\"linecolor\":\"#EBF0F8\",\"ticks\":\"\",\"title\":{\"standoff\":15},\"zerolinecolor\":\"#EBF0F8\",\"zerolinewidth\":2},\"yaxis\":{\"automargin\":true,\"gridcolor\":\"#EBF0F8\",\"linecolor\":\"#EBF0F8\",\"ticks\":\"\",\"title\":{\"standoff\":15},\"zerolinecolor\":\"#EBF0F8\",\"zerolinewidth\":2}}},\"xaxis\":{\"anchor\":\"y\",\"domain\":[0.0,1.0],\"matches\":\"x2\",\"showticklabels\":false},\"yaxis\":{\"anchor\":\"x\",\"domain\":[0.625,1.0]},\"xaxis2\":{\"anchor\":\"y2\",\"domain\":[0.0,1.0]},\"yaxis2\":{\"anchor\":\"x2\",\"domain\":[0.0,0.375]},\"annotations\":[{\"font\":{\"size\":16},\"showarrow\":false,\"text\":\"Coeficientes\",\"x\":0.5,\"xanchor\":\"center\",\"xref\":\"paper\",\"y\":1.0,\"yanchor\":\"bottom\",\"yref\":\"paper\"},{\"font\":{\"size\":16},\"showarrow\":false,\"text\":\"P-Valores\",\"x\":0.5,\"xanchor\":\"center\",\"xref\":\"paper\",\"y\":0.375,\"yanchor\":\"bottom\",\"yref\":\"paper\"}],\"title\":{\"text\":\"Coeficientes do Modelo Multifatorial<br><sup>Fontes: TC Economatica | NEFIN FEA-USP</sup>\"},\"height\":450,\"width\":800},                        {\"responsive\": true}                    ).then(function(){\n",
              "                            \n",
              "var gd = document.getElementById('dee22027-0f83-45fc-b955-5667c349238b');\n",
              "var x = new MutationObserver(function (mutations, observer) {{\n",
              "        var display = window.getComputedStyle(gd).display;\n",
              "        if (!display || display === 'none') {{\n",
              "            console.log([gd, 'removed!']);\n",
              "            Plotly.purge(gd);\n",
              "            observer.disconnect();\n",
              "        }}\n",
              "}});\n",
              "\n",
              "// Listen for the removal of the full notebook cells\n",
              "var notebookContainer = gd.closest('#notebook-container');\n",
              "if (notebookContainer) {{\n",
              "    x.observe(notebookContainer, {childList: true});\n",
              "}}\n",
              "\n",
              "// Listen for the clearing of the current output cell\n",
              "var outputEl = gd.closest('.output');\n",
              "if (outputEl) {{\n",
              "    x.observe(outputEl, {childList: true});\n",
              "}}\n",
              "\n",
              "                        })                };                            </script>        </div>\n",
              "</body>\n",
              "</html>"
            ]
          },
          "metadata": {}
        }
      ]
    },
    {
      "cell_type": "markdown",
      "source": [
        "#Alphas de Fundos"
      ],
      "metadata": {
        "id": "ba8QqERt4Dsh"
      }
    },
    {
      "cell_type": "code",
      "source": [
        "def get_portfolios_alphas(portfolios:pd.DataFrame, factors:pd.DataFrame, use_factors=None):\n",
        "    alphas = pd.Series(dtype=float)\n",
        "    if use_factors is not None:\n",
        "        factors = factors[use_factors]\n",
        "    for port_name, port in portfolios.items():\n",
        "        model = factor_evaluation(port, factors)\n",
        "        alpha = model.params['Alpha']\n",
        "        alphas.loc[port_name] = alpha\n",
        "    \n",
        "    return alphas\n"
      ],
      "metadata": {
        "id": "aRgc8WRJaWRg"
      },
      "execution_count": null,
      "outputs": []
    },
    {
      "cell_type": "code",
      "source": [
        "fia = pd.read_excel('drive/My Drive/FIA 2022.xlsx', header=3, index_col=0, na_values='-')\n",
        "fia.columns = [ col.split('\\n')[-1] for col in fia.columns]\n",
        "fia.rename(columns={'ajust p/ prov': '558060'}, inplace=True)\n",
        "fia.rename(columns={col: int(col) for col in fia.columns}, inplace=True)\n",
        "fia"
      ],
      "metadata": {
        "colab": {
          "base_uri": "https://localhost:8080/"
        },
        "id": "2otDz8RPcDk8",
        "outputId": "9e042a2b-f855-4665-b696-ac86a3c7fec4"
      },
      "execution_count": null,
      "outputs": [
        {
          "output_type": "execute_result",
          "data": {
            "text/plain": [
              "              558060    213691    499943    485675    505412    507113  \\\n",
              "Data                                                                     \n",
              "2021-12-31       NaN       NaN       NaN       NaN       NaN       NaN   \n",
              "2022-01-03 -0.135340 -1.618674 -1.421661 -1.417179 -1.972615 -1.903569   \n",
              "2022-01-04 -0.790740 -2.208887 -0.776761 -0.771906 -1.267577 -1.226752   \n",
              "2022-01-05 -2.553243 -4.754327 -2.375315 -2.381655 -4.121975 -3.988345   \n",
              "2022-01-06 -0.709364 -1.624070  0.355291  0.355959  0.663711  0.642660   \n",
              "...              ...       ...       ...       ...       ...       ...   \n",
              "2022-12-26       NaN       NaN       NaN       NaN       NaN       NaN   \n",
              "2022-12-27       NaN       NaN       NaN       NaN       NaN       NaN   \n",
              "2022-12-28       NaN       NaN       NaN       NaN       NaN       NaN   \n",
              "2022-12-29       NaN       NaN       NaN       NaN       NaN       NaN   \n",
              "2022-12-30       NaN       NaN       NaN       NaN       NaN       NaN   \n",
              "\n",
              "              428582    522211    522627    522635  ...    603635    561452  \\\n",
              "Data                                                ...                       \n",
              "2021-12-31       NaN       NaN       NaN       NaN  ...       NaN       NaN   \n",
              "2022-01-03  1.550921 -3.479683 -1.097645 -1.231168  ...  0.557974  0.037951   \n",
              "2022-01-04 -0.466342 -1.372231  0.174987 -0.935669  ...  0.021238 -0.917379   \n",
              "2022-01-05 -0.754209 -3.849242 -1.711230 -3.615083  ... -1.431171 -2.108572   \n",
              "2022-01-06 -0.412099 -0.833890 -0.614884 -0.102597  ... -0.409246 -0.812850   \n",
              "...              ...       ...       ...       ...  ...       ...       ...   \n",
              "2022-12-26       NaN       NaN       NaN       NaN  ...       NaN       NaN   \n",
              "2022-12-27       NaN       NaN       NaN       NaN  ...       NaN       NaN   \n",
              "2022-12-28       NaN       NaN       NaN       NaN  ...       NaN       NaN   \n",
              "2022-12-29       NaN       NaN       NaN       NaN  ...       NaN       NaN   \n",
              "2022-12-30       NaN       NaN       NaN       NaN  ...       NaN       NaN   \n",
              "\n",
              "              558834    530727    531510    367222    436100    316873  \\\n",
              "Data                                                                     \n",
              "2021-12-31       NaN       NaN       NaN       NaN       NaN       NaN   \n",
              "2022-01-03  1.593273  0.020963  1.633445  1.672281 -2.003541 -2.503301   \n",
              "2022-01-04 -0.548745 -0.932498 -0.562581 -0.412487 -1.091579 -1.266471   \n",
              "2022-01-05 -2.255940 -2.165596 -2.319760 -2.604610 -2.449968 -2.085518   \n",
              "2022-01-06 -0.667008 -0.838568 -0.697118 -0.420500  0.092803 -0.036025   \n",
              "...              ...       ...       ...       ...       ...       ...   \n",
              "2022-12-26       NaN       NaN       NaN       NaN       NaN       NaN   \n",
              "2022-12-27       NaN       NaN       NaN       NaN       NaN       NaN   \n",
              "2022-12-28       NaN       NaN       NaN       NaN       NaN       NaN   \n",
              "2022-12-29       NaN       NaN       NaN       NaN       NaN       NaN   \n",
              "2022-12-30       NaN       NaN       NaN       NaN       NaN       NaN   \n",
              "\n",
              "              171379    450278  \n",
              "Data                            \n",
              "2021-12-31       NaN       NaN  \n",
              "2022-01-03 -1.985157 -0.914724  \n",
              "2022-01-04 -1.100127 -0.370826  \n",
              "2022-01-05 -2.599320 -2.414871  \n",
              "2022-01-06  0.103968  0.518563  \n",
              "...              ...       ...  \n",
              "2022-12-26       NaN       NaN  \n",
              "2022-12-27       NaN       NaN  \n",
              "2022-12-28       NaN       NaN  \n",
              "2022-12-29       NaN       NaN  \n",
              "2022-12-30       NaN       NaN  \n",
              "\n",
              "[261 rows x 429 columns]"
            ],
            "text/html": [
              "\n",
              "  <div id=\"df-2cd99dc8-ffcd-4ad1-bd06-1846e407b735\">\n",
              "    <div class=\"colab-df-container\">\n",
              "      <div>\n",
              "<style scoped>\n",
              "    .dataframe tbody tr th:only-of-type {\n",
              "        vertical-align: middle;\n",
              "    }\n",
              "\n",
              "    .dataframe tbody tr th {\n",
              "        vertical-align: top;\n",
              "    }\n",
              "\n",
              "    .dataframe thead th {\n",
              "        text-align: right;\n",
              "    }\n",
              "</style>\n",
              "<table border=\"1\" class=\"dataframe\">\n",
              "  <thead>\n",
              "    <tr style=\"text-align: right;\">\n",
              "      <th></th>\n",
              "      <th>558060</th>\n",
              "      <th>213691</th>\n",
              "      <th>499943</th>\n",
              "      <th>485675</th>\n",
              "      <th>505412</th>\n",
              "      <th>507113</th>\n",
              "      <th>428582</th>\n",
              "      <th>522211</th>\n",
              "      <th>522627</th>\n",
              "      <th>522635</th>\n",
              "      <th>...</th>\n",
              "      <th>603635</th>\n",
              "      <th>561452</th>\n",
              "      <th>558834</th>\n",
              "      <th>530727</th>\n",
              "      <th>531510</th>\n",
              "      <th>367222</th>\n",
              "      <th>436100</th>\n",
              "      <th>316873</th>\n",
              "      <th>171379</th>\n",
              "      <th>450278</th>\n",
              "    </tr>\n",
              "    <tr>\n",
              "      <th>Data</th>\n",
              "      <th></th>\n",
              "      <th></th>\n",
              "      <th></th>\n",
              "      <th></th>\n",
              "      <th></th>\n",
              "      <th></th>\n",
              "      <th></th>\n",
              "      <th></th>\n",
              "      <th></th>\n",
              "      <th></th>\n",
              "      <th></th>\n",
              "      <th></th>\n",
              "      <th></th>\n",
              "      <th></th>\n",
              "      <th></th>\n",
              "      <th></th>\n",
              "      <th></th>\n",
              "      <th></th>\n",
              "      <th></th>\n",
              "      <th></th>\n",
              "      <th></th>\n",
              "    </tr>\n",
              "  </thead>\n",
              "  <tbody>\n",
              "    <tr>\n",
              "      <th>2021-12-31</th>\n",
              "      <td>NaN</td>\n",
              "      <td>NaN</td>\n",
              "      <td>NaN</td>\n",
              "      <td>NaN</td>\n",
              "      <td>NaN</td>\n",
              "      <td>NaN</td>\n",
              "      <td>NaN</td>\n",
              "      <td>NaN</td>\n",
              "      <td>NaN</td>\n",
              "      <td>NaN</td>\n",
              "      <td>...</td>\n",
              "      <td>NaN</td>\n",
              "      <td>NaN</td>\n",
              "      <td>NaN</td>\n",
              "      <td>NaN</td>\n",
              "      <td>NaN</td>\n",
              "      <td>NaN</td>\n",
              "      <td>NaN</td>\n",
              "      <td>NaN</td>\n",
              "      <td>NaN</td>\n",
              "      <td>NaN</td>\n",
              "    </tr>\n",
              "    <tr>\n",
              "      <th>2022-01-03</th>\n",
              "      <td>-0.135340</td>\n",
              "      <td>-1.618674</td>\n",
              "      <td>-1.421661</td>\n",
              "      <td>-1.417179</td>\n",
              "      <td>-1.972615</td>\n",
              "      <td>-1.903569</td>\n",
              "      <td>1.550921</td>\n",
              "      <td>-3.479683</td>\n",
              "      <td>-1.097645</td>\n",
              "      <td>-1.231168</td>\n",
              "      <td>...</td>\n",
              "      <td>0.557974</td>\n",
              "      <td>0.037951</td>\n",
              "      <td>1.593273</td>\n",
              "      <td>0.020963</td>\n",
              "      <td>1.633445</td>\n",
              "      <td>1.672281</td>\n",
              "      <td>-2.003541</td>\n",
              "      <td>-2.503301</td>\n",
              "      <td>-1.985157</td>\n",
              "      <td>-0.914724</td>\n",
              "    </tr>\n",
              "    <tr>\n",
              "      <th>2022-01-04</th>\n",
              "      <td>-0.790740</td>\n",
              "      <td>-2.208887</td>\n",
              "      <td>-0.776761</td>\n",
              "      <td>-0.771906</td>\n",
              "      <td>-1.267577</td>\n",
              "      <td>-1.226752</td>\n",
              "      <td>-0.466342</td>\n",
              "      <td>-1.372231</td>\n",
              "      <td>0.174987</td>\n",
              "      <td>-0.935669</td>\n",
              "      <td>...</td>\n",
              "      <td>0.021238</td>\n",
              "      <td>-0.917379</td>\n",
              "      <td>-0.548745</td>\n",
              "      <td>-0.932498</td>\n",
              "      <td>-0.562581</td>\n",
              "      <td>-0.412487</td>\n",
              "      <td>-1.091579</td>\n",
              "      <td>-1.266471</td>\n",
              "      <td>-1.100127</td>\n",
              "      <td>-0.370826</td>\n",
              "    </tr>\n",
              "    <tr>\n",
              "      <th>2022-01-05</th>\n",
              "      <td>-2.553243</td>\n",
              "      <td>-4.754327</td>\n",
              "      <td>-2.375315</td>\n",
              "      <td>-2.381655</td>\n",
              "      <td>-4.121975</td>\n",
              "      <td>-3.988345</td>\n",
              "      <td>-0.754209</td>\n",
              "      <td>-3.849242</td>\n",
              "      <td>-1.711230</td>\n",
              "      <td>-3.615083</td>\n",
              "      <td>...</td>\n",
              "      <td>-1.431171</td>\n",
              "      <td>-2.108572</td>\n",
              "      <td>-2.255940</td>\n",
              "      <td>-2.165596</td>\n",
              "      <td>-2.319760</td>\n",
              "      <td>-2.604610</td>\n",
              "      <td>-2.449968</td>\n",
              "      <td>-2.085518</td>\n",
              "      <td>-2.599320</td>\n",
              "      <td>-2.414871</td>\n",
              "    </tr>\n",
              "    <tr>\n",
              "      <th>2022-01-06</th>\n",
              "      <td>-0.709364</td>\n",
              "      <td>-1.624070</td>\n",
              "      <td>0.355291</td>\n",
              "      <td>0.355959</td>\n",
              "      <td>0.663711</td>\n",
              "      <td>0.642660</td>\n",
              "      <td>-0.412099</td>\n",
              "      <td>-0.833890</td>\n",
              "      <td>-0.614884</td>\n",
              "      <td>-0.102597</td>\n",
              "      <td>...</td>\n",
              "      <td>-0.409246</td>\n",
              "      <td>-0.812850</td>\n",
              "      <td>-0.667008</td>\n",
              "      <td>-0.838568</td>\n",
              "      <td>-0.697118</td>\n",
              "      <td>-0.420500</td>\n",
              "      <td>0.092803</td>\n",
              "      <td>-0.036025</td>\n",
              "      <td>0.103968</td>\n",
              "      <td>0.518563</td>\n",
              "    </tr>\n",
              "    <tr>\n",
              "      <th>...</th>\n",
              "      <td>...</td>\n",
              "      <td>...</td>\n",
              "      <td>...</td>\n",
              "      <td>...</td>\n",
              "      <td>...</td>\n",
              "      <td>...</td>\n",
              "      <td>...</td>\n",
              "      <td>...</td>\n",
              "      <td>...</td>\n",
              "      <td>...</td>\n",
              "      <td>...</td>\n",
              "      <td>...</td>\n",
              "      <td>...</td>\n",
              "      <td>...</td>\n",
              "      <td>...</td>\n",
              "      <td>...</td>\n",
              "      <td>...</td>\n",
              "      <td>...</td>\n",
              "      <td>...</td>\n",
              "      <td>...</td>\n",
              "      <td>...</td>\n",
              "    </tr>\n",
              "    <tr>\n",
              "      <th>2022-12-26</th>\n",
              "      <td>NaN</td>\n",
              "      <td>NaN</td>\n",
              "      <td>NaN</td>\n",
              "      <td>NaN</td>\n",
              "      <td>NaN</td>\n",
              "      <td>NaN</td>\n",
              "      <td>NaN</td>\n",
              "      <td>NaN</td>\n",
              "      <td>NaN</td>\n",
              "      <td>NaN</td>\n",
              "      <td>...</td>\n",
              "      <td>NaN</td>\n",
              "      <td>NaN</td>\n",
              "      <td>NaN</td>\n",
              "      <td>NaN</td>\n",
              "      <td>NaN</td>\n",
              "      <td>NaN</td>\n",
              "      <td>NaN</td>\n",
              "      <td>NaN</td>\n",
              "      <td>NaN</td>\n",
              "      <td>NaN</td>\n",
              "    </tr>\n",
              "    <tr>\n",
              "      <th>2022-12-27</th>\n",
              "      <td>NaN</td>\n",
              "      <td>NaN</td>\n",
              "      <td>NaN</td>\n",
              "      <td>NaN</td>\n",
              "      <td>NaN</td>\n",
              "      <td>NaN</td>\n",
              "      <td>NaN</td>\n",
              "      <td>NaN</td>\n",
              "      <td>NaN</td>\n",
              "      <td>NaN</td>\n",
              "      <td>...</td>\n",
              "      <td>NaN</td>\n",
              "      <td>NaN</td>\n",
              "      <td>NaN</td>\n",
              "      <td>NaN</td>\n",
              "      <td>NaN</td>\n",
              "      <td>NaN</td>\n",
              "      <td>NaN</td>\n",
              "      <td>NaN</td>\n",
              "      <td>NaN</td>\n",
              "      <td>NaN</td>\n",
              "    </tr>\n",
              "    <tr>\n",
              "      <th>2022-12-28</th>\n",
              "      <td>NaN</td>\n",
              "      <td>NaN</td>\n",
              "      <td>NaN</td>\n",
              "      <td>NaN</td>\n",
              "      <td>NaN</td>\n",
              "      <td>NaN</td>\n",
              "      <td>NaN</td>\n",
              "      <td>NaN</td>\n",
              "      <td>NaN</td>\n",
              "      <td>NaN</td>\n",
              "      <td>...</td>\n",
              "      <td>NaN</td>\n",
              "      <td>NaN</td>\n",
              "      <td>NaN</td>\n",
              "      <td>NaN</td>\n",
              "      <td>NaN</td>\n",
              "      <td>NaN</td>\n",
              "      <td>NaN</td>\n",
              "      <td>NaN</td>\n",
              "      <td>NaN</td>\n",
              "      <td>NaN</td>\n",
              "    </tr>\n",
              "    <tr>\n",
              "      <th>2022-12-29</th>\n",
              "      <td>NaN</td>\n",
              "      <td>NaN</td>\n",
              "      <td>NaN</td>\n",
              "      <td>NaN</td>\n",
              "      <td>NaN</td>\n",
              "      <td>NaN</td>\n",
              "      <td>NaN</td>\n",
              "      <td>NaN</td>\n",
              "      <td>NaN</td>\n",
              "      <td>NaN</td>\n",
              "      <td>...</td>\n",
              "      <td>NaN</td>\n",
              "      <td>NaN</td>\n",
              "      <td>NaN</td>\n",
              "      <td>NaN</td>\n",
              "      <td>NaN</td>\n",
              "      <td>NaN</td>\n",
              "      <td>NaN</td>\n",
              "      <td>NaN</td>\n",
              "      <td>NaN</td>\n",
              "      <td>NaN</td>\n",
              "    </tr>\n",
              "    <tr>\n",
              "      <th>2022-12-30</th>\n",
              "      <td>NaN</td>\n",
              "      <td>NaN</td>\n",
              "      <td>NaN</td>\n",
              "      <td>NaN</td>\n",
              "      <td>NaN</td>\n",
              "      <td>NaN</td>\n",
              "      <td>NaN</td>\n",
              "      <td>NaN</td>\n",
              "      <td>NaN</td>\n",
              "      <td>NaN</td>\n",
              "      <td>...</td>\n",
              "      <td>NaN</td>\n",
              "      <td>NaN</td>\n",
              "      <td>NaN</td>\n",
              "      <td>NaN</td>\n",
              "      <td>NaN</td>\n",
              "      <td>NaN</td>\n",
              "      <td>NaN</td>\n",
              "      <td>NaN</td>\n",
              "      <td>NaN</td>\n",
              "      <td>NaN</td>\n",
              "    </tr>\n",
              "  </tbody>\n",
              "</table>\n",
              "<p>261 rows × 429 columns</p>\n",
              "</div>\n",
              "      <button class=\"colab-df-convert\" onclick=\"convertToInteractive('df-2cd99dc8-ffcd-4ad1-bd06-1846e407b735')\"\n",
              "              title=\"Convert this dataframe to an interactive table.\"\n",
              "              style=\"display:none;\">\n",
              "        \n",
              "  <svg xmlns=\"http://www.w3.org/2000/svg\" height=\"24px\"viewBox=\"0 0 24 24\"\n",
              "       width=\"24px\">\n",
              "    <path d=\"M0 0h24v24H0V0z\" fill=\"none\"/>\n",
              "    <path d=\"M18.56 5.44l.94 2.06.94-2.06 2.06-.94-2.06-.94-.94-2.06-.94 2.06-2.06.94zm-11 1L8.5 8.5l.94-2.06 2.06-.94-2.06-.94L8.5 2.5l-.94 2.06-2.06.94zm10 10l.94 2.06.94-2.06 2.06-.94-2.06-.94-.94-2.06-.94 2.06-2.06.94z\"/><path d=\"M17.41 7.96l-1.37-1.37c-.4-.4-.92-.59-1.43-.59-.52 0-1.04.2-1.43.59L10.3 9.45l-7.72 7.72c-.78.78-.78 2.05 0 2.83L4 21.41c.39.39.9.59 1.41.59.51 0 1.02-.2 1.41-.59l7.78-7.78 2.81-2.81c.8-.78.8-2.07 0-2.86zM5.41 20L4 18.59l7.72-7.72 1.47 1.35L5.41 20z\"/>\n",
              "  </svg>\n",
              "      </button>\n",
              "      \n",
              "  <style>\n",
              "    .colab-df-container {\n",
              "      display:flex;\n",
              "      flex-wrap:wrap;\n",
              "      gap: 12px;\n",
              "    }\n",
              "\n",
              "    .colab-df-convert {\n",
              "      background-color: #E8F0FE;\n",
              "      border: none;\n",
              "      border-radius: 50%;\n",
              "      cursor: pointer;\n",
              "      display: none;\n",
              "      fill: #1967D2;\n",
              "      height: 32px;\n",
              "      padding: 0 0 0 0;\n",
              "      width: 32px;\n",
              "    }\n",
              "\n",
              "    .colab-df-convert:hover {\n",
              "      background-color: #E2EBFA;\n",
              "      box-shadow: 0px 1px 2px rgba(60, 64, 67, 0.3), 0px 1px 3px 1px rgba(60, 64, 67, 0.15);\n",
              "      fill: #174EA6;\n",
              "    }\n",
              "\n",
              "    [theme=dark] .colab-df-convert {\n",
              "      background-color: #3B4455;\n",
              "      fill: #D2E3FC;\n",
              "    }\n",
              "\n",
              "    [theme=dark] .colab-df-convert:hover {\n",
              "      background-color: #434B5C;\n",
              "      box-shadow: 0px 1px 3px 1px rgba(0, 0, 0, 0.15);\n",
              "      filter: drop-shadow(0px 1px 2px rgba(0, 0, 0, 0.3));\n",
              "      fill: #FFFFFF;\n",
              "    }\n",
              "  </style>\n",
              "\n",
              "      <script>\n",
              "        const buttonEl =\n",
              "          document.querySelector('#df-2cd99dc8-ffcd-4ad1-bd06-1846e407b735 button.colab-df-convert');\n",
              "        buttonEl.style.display =\n",
              "          google.colab.kernel.accessAllowed ? 'block' : 'none';\n",
              "\n",
              "        async function convertToInteractive(key) {\n",
              "          const element = document.querySelector('#df-2cd99dc8-ffcd-4ad1-bd06-1846e407b735');\n",
              "          const dataTable =\n",
              "            await google.colab.kernel.invokeFunction('convertToInteractive',\n",
              "                                                     [key], {});\n",
              "          if (!dataTable) return;\n",
              "\n",
              "          const docLinkHtml = 'Like what you see? Visit the ' +\n",
              "            '<a target=\"_blank\" href=https://colab.research.google.com/notebooks/data_table.ipynb>data table notebook</a>'\n",
              "            + ' to learn more about interactive tables.';\n",
              "          element.innerHTML = '';\n",
              "          dataTable['output_type'] = 'display_data';\n",
              "          await google.colab.output.renderOutput(dataTable, element);\n",
              "          const docLink = document.createElement('div');\n",
              "          docLink.innerHTML = docLinkHtml;\n",
              "          element.appendChild(docLink);\n",
              "        }\n",
              "      </script>\n",
              "    </div>\n",
              "  </div>\n",
              "  "
            ]
          },
          "metadata": {},
          "execution_count": 25
        }
      ]
    },
    {
      "cell_type": "code",
      "source": [
        "alphas_multfac = get_portfolios_alphas(fia, factors_df)\n",
        "alphas_jensen = get_portfolios_alphas(fia, factors_df, use_factors=['MKT'])\n",
        "\n",
        "alphas_jensen.sort_values(ascending=False, inplace=True)\n",
        "alphas_multfac.sort_values(ascending=False, inplace=True)"
      ],
      "metadata": {
        "colab": {
          "base_uri": "https://localhost:8080/"
        },
        "id": "C2aiPi6lcm2S",
        "outputId": "0ccb8784-6e96-45ac-cff5-afb1f5abf4eb"
      },
      "execution_count": null,
      "outputs": [
        {
          "output_type": "stream",
          "name": "stderr",
          "text": [
            "/usr/local/lib/python3.8/dist-packages/statsmodels/tsa/tsatools.py:142: FutureWarning:\n",
            "\n",
            "In a future version of pandas all arguments of concat except for the argument 'objs' will be keyword-only\n",
            "\n"
          ]
        }
      ]
    },
    {
      "cell_type": "code",
      "source": [
        "len(alphas_jensen)"
      ],
      "metadata": {
        "colab": {
          "base_uri": "https://localhost:8080/"
        },
        "id": "TpaWpyk6sN5j",
        "outputId": "9f52005a-7d86-4d13-9d4b-29a5e2c1aa28"
      },
      "execution_count": null,
      "outputs": [
        {
          "output_type": "execute_result",
          "data": {
            "text/plain": [
              "428"
            ]
          },
          "metadata": {},
          "execution_count": 27
        }
      ]
    },
    {
      "cell_type": "code",
      "source": [
        "codigo = pd.read_excel('drive/My Drive/fia - codigo.xlsx', header=3, index_col=0, na_values='-')\n",
        "codigo.columns = [col.split('\\n')[-1] for col in codigo.columns]\n",
        "codigo = codigo[pd.Series([cod.isdigit() for cod in codigo['Anbima']], index=codigo.index)]"
      ],
      "metadata": {
        "id": "cpnpgoYykBlv"
      },
      "execution_count": null,
      "outputs": []
    },
    {
      "cell_type": "code",
      "source": [
        "codigo.index = [int(i) for i in codigo['Anbima'].values]\n",
        "codigo = codigo['Nome']\n",
        "codigo"
      ],
      "metadata": {
        "colab": {
          "base_uri": "https://localhost:8080/"
        },
        "id": "D2LUrxHQnH4x",
        "outputId": "a69859a7-7c3b-4fc2-eab8-2cc3c07553db"
      },
      "execution_count": null,
      "outputs": [
        {
          "output_type": "execute_result",
          "data": {
            "text/plain": [
              "511692                              051 Acoes FIA\n",
              "653500          051 Agro Fiagro Imobiliario-Unica\n",
              "540293        051 Allocation FICFI Mult Cred Priv\n",
              "563404                     051 Alocacao Acoes FIA\n",
              "542407    051 Alocacao Moder FICFI Mult Cred Priv\n",
              "                           ...                   \n",
              "609145                Zurich FI Mult Cred Priv Ie\n",
              "478709                    Zurich Schroder FI Mult\n",
              "490938      Zurich Valora Prev FICFI RF Cred Priv\n",
              "619256          Zurique Deb Incent FI em Infra RF\n",
              "439959      Zw Investimentos FICFI Mult Cred Priv\n",
              "Name: Nome, Length: 31150, dtype: object"
            ]
          },
          "metadata": {},
          "execution_count": 29
        }
      ]
    },
    {
      "cell_type": "code",
      "source": [
        "results = pd.DataFrame(index=codigo.index)\n",
        "\n",
        "results['Nome'] = codigo\n",
        "results['Alpha Multi-Fatorial (até 31/10/2022)'] = alphas_multfac\n",
        "results['Alpha de Jensen (até 14/12/2022)'] = alphas_jensen\n",
        "\n",
        "results = results[results['Alpha Multi-Fatorial (até 31/10/2022)'].notna()]"
      ],
      "metadata": {
        "id": "4ChRoXgSi-jQ"
      },
      "execution_count": null,
      "outputs": []
    },
    {
      "cell_type": "code",
      "source": [
        "results.sort_values('Alpha Multi-Fatorial (até 31/10/2022)', ascending=False, inplace=True)"
      ],
      "metadata": {
        "id": "Mxs-pIcsqAXK"
      },
      "execution_count": null,
      "outputs": []
    },
    {
      "cell_type": "code",
      "source": [
        "results.to_excel('drive/My Drive/Alphas.xlsx')"
      ],
      "metadata": {
        "id": "W1eksRTnuTF2"
      },
      "execution_count": null,
      "outputs": []
    }
  ]
}